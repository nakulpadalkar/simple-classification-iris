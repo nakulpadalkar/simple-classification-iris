{
 "cells": [
  {
   "cell_type": "code",
   "execution_count": 9,
   "metadata": {},
   "outputs": [
    {
     "data": {
      "text/plain": [
       "(100, 131)"
      ]
     },
     "execution_count": 9,
     "metadata": {},
     "output_type": "execute_result"
    }
   ],
   "source": [
    "import pandas as pd\n",
    "\n",
    "lightcast = pd.read_csv('lightcast_job_postings_small.csv')\n",
    "lightcast.shape"
   ]
  },
  {
   "cell_type": "code",
   "execution_count": 10,
   "metadata": {},
   "outputs": [
    {
     "data": {
      "text/plain": [
       "Index(['ID', 'LAST_UPDATED_DATE', 'LAST_UPDATED_TIMESTAMP', 'DUPLICATES',\n",
       "       'POSTED', 'EXPIRED', 'DURATION', 'SOURCE_TYPES', 'SOURCES', 'URL',\n",
       "       ...\n",
       "       'NAICS_2022_2', 'NAICS_2022_2_NAME', 'NAICS_2022_3',\n",
       "       'NAICS_2022_3_NAME', 'NAICS_2022_4', 'NAICS_2022_4_NAME',\n",
       "       'NAICS_2022_5', 'NAICS_2022_5_NAME', 'NAICS_2022_6',\n",
       "       'NAICS_2022_6_NAME'],\n",
       "      dtype='object', length=131)"
      ]
     },
     "execution_count": 10,
     "metadata": {},
     "output_type": "execute_result"
    }
   ],
   "source": [
    "lightcast.columns"
   ]
  },
  {
   "cell_type": "code",
   "execution_count": 11,
   "metadata": {},
   "outputs": [],
   "source": [
    "# n=100\n",
    "# lightcast_small = lightcast.head(n=n)\n",
    "# lightcast_small.shape\n",
    "# lightcast_small.to_csv('lightcast_job_postings_small.csv', index=False)"
   ]
  },
  {
   "cell_type": "code",
   "execution_count": 12,
   "metadata": {},
   "outputs": [
    {
     "data": {
      "text/plain": [
       "(100, 125)"
      ]
     },
     "execution_count": 12,
     "metadata": {},
     "output_type": "execute_result"
    }
   ],
   "source": [
    "# Drop URL and ACtive URL Columns\n",
    "lightcast.drop(columns=['URL', 'ACTIVE_URLS', 'SOURCE_TYPES', \"SOURCES\", \"NAICS_2022_2\",\"NAICS_2022_2_NAME\"], axis=1, inplace=True)\n",
    "lightcast.shape"
   ]
  },
  {
   "cell_type": "code",
   "execution_count": 13,
   "metadata": {},
   "outputs": [
    {
     "data": {
      "application/vnd.microsoft.datawrangler.viewer.v0+json": {
       "columns": [
        {
         "name": "index",
         "rawType": "int64",
         "type": "integer"
        },
        {
         "name": "ID",
         "rawType": "object",
         "type": "string"
        },
        {
         "name": "LAST_UPDATED_DATE",
         "rawType": "object",
         "type": "string"
        },
        {
         "name": "LAST_UPDATED_TIMESTAMP",
         "rawType": "object",
         "type": "string"
        },
        {
         "name": "DUPLICATES",
         "rawType": "int64",
         "type": "integer"
        },
        {
         "name": "POSTED",
         "rawType": "object",
         "type": "string"
        },
        {
         "name": "EXPIRED",
         "rawType": "object",
         "type": "string"
        },
        {
         "name": "DURATION",
         "rawType": "float64",
         "type": "float"
        },
        {
         "name": "ACTIVE_SOURCES_INFO",
         "rawType": "float64",
         "type": "float"
        },
        {
         "name": "TITLE_RAW",
         "rawType": "object",
         "type": "string"
        },
        {
         "name": "BODY",
         "rawType": "object",
         "type": "string"
        },
        {
         "name": "MODELED_EXPIRED",
         "rawType": "object",
         "type": "string"
        },
        {
         "name": "MODELED_DURATION",
         "rawType": "float64",
         "type": "float"
        },
        {
         "name": "COMPANY",
         "rawType": "int64",
         "type": "integer"
        },
        {
         "name": "COMPANY_NAME",
         "rawType": "object",
         "type": "string"
        },
        {
         "name": "COMPANY_RAW",
         "rawType": "object",
         "type": "string"
        },
        {
         "name": "COMPANY_IS_STAFFING",
         "rawType": "bool",
         "type": "boolean"
        },
        {
         "name": "EDUCATION_LEVELS",
         "rawType": "object",
         "type": "string"
        },
        {
         "name": "EDUCATION_LEVELS_NAME",
         "rawType": "object",
         "type": "string"
        },
        {
         "name": "MIN_EDULEVELS",
         "rawType": "int64",
         "type": "integer"
        },
        {
         "name": "MIN_EDULEVELS_NAME",
         "rawType": "object",
         "type": "string"
        },
        {
         "name": "MAX_EDULEVELS",
         "rawType": "float64",
         "type": "float"
        },
        {
         "name": "MAX_EDULEVELS_NAME",
         "rawType": "object",
         "type": "unknown"
        },
        {
         "name": "EMPLOYMENT_TYPE",
         "rawType": "int64",
         "type": "integer"
        },
        {
         "name": "EMPLOYMENT_TYPE_NAME",
         "rawType": "object",
         "type": "string"
        },
        {
         "name": "MIN_YEARS_EXPERIENCE",
         "rawType": "float64",
         "type": "float"
        },
        {
         "name": "MAX_YEARS_EXPERIENCE",
         "rawType": "float64",
         "type": "float"
        },
        {
         "name": "IS_INTERNSHIP",
         "rawType": "bool",
         "type": "boolean"
        },
        {
         "name": "SALARY",
         "rawType": "float64",
         "type": "float"
        },
        {
         "name": "REMOTE_TYPE",
         "rawType": "int64",
         "type": "integer"
        },
        {
         "name": "REMOTE_TYPE_NAME",
         "rawType": "object",
         "type": "string"
        },
        {
         "name": "ORIGINAL_PAY_PERIOD",
         "rawType": "object",
         "type": "unknown"
        },
        {
         "name": "SALARY_TO",
         "rawType": "float64",
         "type": "float"
        },
        {
         "name": "SALARY_FROM",
         "rawType": "float64",
         "type": "float"
        },
        {
         "name": "LOCATION",
         "rawType": "object",
         "type": "string"
        },
        {
         "name": "CITY",
         "rawType": "object",
         "type": "string"
        },
        {
         "name": "CITY_NAME",
         "rawType": "object",
         "type": "string"
        },
        {
         "name": "COUNTY",
         "rawType": "int64",
         "type": "integer"
        },
        {
         "name": "COUNTY_NAME",
         "rawType": "object",
         "type": "string"
        },
        {
         "name": "MSA",
         "rawType": "float64",
         "type": "float"
        },
        {
         "name": "MSA_NAME",
         "rawType": "object",
         "type": "string"
        },
        {
         "name": "STATE",
         "rawType": "int64",
         "type": "integer"
        },
        {
         "name": "STATE_NAME",
         "rawType": "object",
         "type": "string"
        },
        {
         "name": "COUNTY_OUTGOING",
         "rawType": "int64",
         "type": "integer"
        },
        {
         "name": "COUNTY_NAME_OUTGOING",
         "rawType": "object",
         "type": "string"
        },
        {
         "name": "COUNTY_INCOMING",
         "rawType": "int64",
         "type": "integer"
        },
        {
         "name": "COUNTY_NAME_INCOMING",
         "rawType": "object",
         "type": "string"
        },
        {
         "name": "MSA_OUTGOING",
         "rawType": "float64",
         "type": "float"
        },
        {
         "name": "MSA_NAME_OUTGOING",
         "rawType": "object",
         "type": "string"
        },
        {
         "name": "MSA_INCOMING",
         "rawType": "float64",
         "type": "float"
        },
        {
         "name": "MSA_NAME_INCOMING",
         "rawType": "object",
         "type": "string"
        },
        {
         "name": "NAICS2",
         "rawType": "int64",
         "type": "integer"
        },
        {
         "name": "NAICS2_NAME",
         "rawType": "object",
         "type": "string"
        },
        {
         "name": "NAICS3",
         "rawType": "int64",
         "type": "integer"
        },
        {
         "name": "NAICS3_NAME",
         "rawType": "object",
         "type": "string"
        },
        {
         "name": "NAICS4",
         "rawType": "int64",
         "type": "integer"
        },
        {
         "name": "NAICS4_NAME",
         "rawType": "object",
         "type": "string"
        },
        {
         "name": "NAICS5",
         "rawType": "int64",
         "type": "integer"
        },
        {
         "name": "NAICS5_NAME",
         "rawType": "object",
         "type": "string"
        },
        {
         "name": "NAICS6",
         "rawType": "int64",
         "type": "integer"
        },
        {
         "name": "NAICS6_NAME",
         "rawType": "object",
         "type": "string"
        },
        {
         "name": "TITLE",
         "rawType": "object",
         "type": "string"
        },
        {
         "name": "TITLE_NAME",
         "rawType": "object",
         "type": "string"
        },
        {
         "name": "TITLE_CLEAN",
         "rawType": "object",
         "type": "string"
        },
        {
         "name": "SKILLS",
         "rawType": "object",
         "type": "string"
        },
        {
         "name": "SKILLS_NAME",
         "rawType": "object",
         "type": "string"
        },
        {
         "name": "SPECIALIZED_SKILLS",
         "rawType": "object",
         "type": "string"
        },
        {
         "name": "SPECIALIZED_SKILLS_NAME",
         "rawType": "object",
         "type": "string"
        },
        {
         "name": "CERTIFICATIONS",
         "rawType": "object",
         "type": "string"
        },
        {
         "name": "CERTIFICATIONS_NAME",
         "rawType": "object",
         "type": "string"
        },
        {
         "name": "COMMON_SKILLS",
         "rawType": "object",
         "type": "string"
        },
        {
         "name": "COMMON_SKILLS_NAME",
         "rawType": "object",
         "type": "string"
        },
        {
         "name": "SOFTWARE_SKILLS",
         "rawType": "object",
         "type": "string"
        },
        {
         "name": "SOFTWARE_SKILLS_NAME",
         "rawType": "object",
         "type": "string"
        },
        {
         "name": "ONET",
         "rawType": "object",
         "type": "string"
        },
        {
         "name": "ONET_NAME",
         "rawType": "object",
         "type": "string"
        },
        {
         "name": "ONET_2019",
         "rawType": "object",
         "type": "string"
        },
        {
         "name": "ONET_2019_NAME",
         "rawType": "object",
         "type": "string"
        },
        {
         "name": "CIP6",
         "rawType": "object",
         "type": "string"
        },
        {
         "name": "CIP6_NAME",
         "rawType": "object",
         "type": "string"
        },
        {
         "name": "CIP4",
         "rawType": "object",
         "type": "string"
        },
        {
         "name": "CIP4_NAME",
         "rawType": "object",
         "type": "string"
        },
        {
         "name": "CIP2",
         "rawType": "object",
         "type": "string"
        },
        {
         "name": "CIP2_NAME",
         "rawType": "object",
         "type": "string"
        },
        {
         "name": "SOC_2021_2",
         "rawType": "object",
         "type": "string"
        },
        {
         "name": "SOC_2021_2_NAME",
         "rawType": "object",
         "type": "string"
        },
        {
         "name": "SOC_2021_3",
         "rawType": "object",
         "type": "string"
        },
        {
         "name": "SOC_2021_3_NAME",
         "rawType": "object",
         "type": "string"
        },
        {
         "name": "SOC_2021_4",
         "rawType": "object",
         "type": "string"
        },
        {
         "name": "SOC_2021_4_NAME",
         "rawType": "object",
         "type": "string"
        },
        {
         "name": "SOC_2021_5",
         "rawType": "object",
         "type": "string"
        },
        {
         "name": "SOC_2021_5_NAME",
         "rawType": "object",
         "type": "string"
        },
        {
         "name": "LOT_CAREER_AREA",
         "rawType": "int64",
         "type": "integer"
        },
        {
         "name": "LOT_CAREER_AREA_NAME",
         "rawType": "object",
         "type": "string"
        },
        {
         "name": "LOT_OCCUPATION",
         "rawType": "int64",
         "type": "integer"
        },
        {
         "name": "LOT_OCCUPATION_NAME",
         "rawType": "object",
         "type": "string"
        },
        {
         "name": "LOT_SPECIALIZED_OCCUPATION",
         "rawType": "int64",
         "type": "integer"
        },
        {
         "name": "LOT_SPECIALIZED_OCCUPATION_NAME",
         "rawType": "object",
         "type": "string"
        },
        {
         "name": "LOT_OCCUPATION_GROUP",
         "rawType": "int64",
         "type": "integer"
        },
        {
         "name": "LOT_OCCUPATION_GROUP_NAME",
         "rawType": "object",
         "type": "string"
        },
        {
         "name": "LOT_V6_SPECIALIZED_OCCUPATION",
         "rawType": "int64",
         "type": "integer"
        },
        {
         "name": "LOT_V6_SPECIALIZED_OCCUPATION_NAME",
         "rawType": "object",
         "type": "string"
        },
        {
         "name": "LOT_V6_OCCUPATION",
         "rawType": "int64",
         "type": "integer"
        },
        {
         "name": "LOT_V6_OCCUPATION_NAME",
         "rawType": "object",
         "type": "string"
        },
        {
         "name": "LOT_V6_OCCUPATION_GROUP",
         "rawType": "int64",
         "type": "integer"
        },
        {
         "name": "LOT_V6_OCCUPATION_GROUP_NAME",
         "rawType": "object",
         "type": "string"
        },
        {
         "name": "LOT_V6_CAREER_AREA",
         "rawType": "int64",
         "type": "integer"
        },
        {
         "name": "LOT_V6_CAREER_AREA_NAME",
         "rawType": "object",
         "type": "string"
        },
        {
         "name": "SOC_2",
         "rawType": "object",
         "type": "string"
        },
        {
         "name": "SOC_2_NAME",
         "rawType": "object",
         "type": "string"
        },
        {
         "name": "SOC_3",
         "rawType": "object",
         "type": "string"
        },
        {
         "name": "SOC_3_NAME",
         "rawType": "object",
         "type": "string"
        },
        {
         "name": "SOC_4",
         "rawType": "object",
         "type": "string"
        },
        {
         "name": "SOC_4_NAME",
         "rawType": "object",
         "type": "string"
        },
        {
         "name": "SOC_5",
         "rawType": "object",
         "type": "string"
        },
        {
         "name": "SOC_5_NAME",
         "rawType": "object",
         "type": "string"
        },
        {
         "name": "LIGHTCAST_SECTORS",
         "rawType": "object",
         "type": "unknown"
        },
        {
         "name": "LIGHTCAST_SECTORS_NAME",
         "rawType": "object",
         "type": "unknown"
        },
        {
         "name": "NAICS_2022_3",
         "rawType": "int64",
         "type": "integer"
        },
        {
         "name": "NAICS_2022_3_NAME",
         "rawType": "object",
         "type": "string"
        },
        {
         "name": "NAICS_2022_4",
         "rawType": "int64",
         "type": "integer"
        },
        {
         "name": "NAICS_2022_4_NAME",
         "rawType": "object",
         "type": "string"
        },
        {
         "name": "NAICS_2022_5",
         "rawType": "int64",
         "type": "integer"
        },
        {
         "name": "NAICS_2022_5_NAME",
         "rawType": "object",
         "type": "string"
        },
        {
         "name": "NAICS_2022_6",
         "rawType": "int64",
         "type": "integer"
        },
        {
         "name": "NAICS_2022_6_NAME",
         "rawType": "object",
         "type": "string"
        }
       ],
       "conversionMethod": "pd.DataFrame",
       "ref": "4d737c13-e105-4860-b503-59b11e186ff8",
       "rows": [
        [
         "0",
         "1f57d95acf4dc67ed2819eb12f049f6a5c11782c",
         "2024-09-06",
         "2024-09-06 20:32:57.352 Z",
         "0",
         "2024-06-02",
         "2024-06-08",
         "6.0",
         null,
         "Enterprise Analyst (II-III)",
         "31-May-2024\n\nEnterprise Analyst (II-III)\n\nMerchandising\n\nEl Dorado\n\nArkansas\n\nJob Posting\n\nGENERAL DESCRIPTION OF POSITION\nPerforms business analysis using various techniques, e.g. statistical analysis, explanatory and predictive modeling, data mining. Identifies trends and patterns in data and can explain business drivers or the why behind the data. Skills typically attained in a four-year degree plus the understanding and application of analytical tools and techniques that come with 2-5 years of experience including advanced MS office skills, advanced SQL, PowerBI, and exporting/building data models.\n\nESSENTIAL DUTIES AND RESPONSIBILITIES\n1. Gathers insight and performs routine and ad hoc reporting using various techniques (statistical analysis, data mining).\n2. Frames unstructured problems\n3. Performs data extraction/gathering, reconciling ambiguous data, and executes the hypothesis-driven approach.\n4. Develops fact-based and actionable recommendations/presentations.\n5. Analyze data for trends and patterns, and interpret data with a clear objective in mind\n6. Proficiently design and develop algorithms and models to use against large datasets to create business insights\n7. Make appropriate selection, utilization and interpretation of advanced analytical methodologies\n8. Effectively communicate insights and recommendations to both technical and non-technical leaders and business customers/partners including preparing reports, updates and/or presentations related to progress made on a project or solution\n9. Work with project teams and business partners to determine project goals and deliver productionized models and tools\n10. Effectively develop trust and collaboration with internal customers and cross-functional teams\n\n\nQUALIFICATIONS\nTo perform this job successfully, an individual must be able to perform each essential duty mentioned satisfactorily. The requirements listed below are representative of the knowledge, skill, and/or ability required.\n\nEDUCATION AND EXPERIENCE\nBroad knowledge of such fields as economics, statistics, business administration, finance, math, science etc. Equivalent to a four-year college degree, plus 2-5 years related experience and/or training, or equivalent combination of education and experience.\n\nAuto req ID\n\n181767BR\n\nStore Number/Dept Number\n\n299900055000 - Strat Plan Perform Mgmt\n\nStore Address\n\n200 E Peach St\n\nStore Zip\n\n71730",
         "2024-06-08",
         "6.0",
         "894731",
         "Murphy USA",
         "Murphy USA",
         "False",
         "[\n  2\n]",
         "[\n  \"Bachelor's degree\"\n]",
         "2",
         "Bachelor's degree",
         null,
         null,
         "1",
         "Full-time (> 32 hours)",
         "2.0",
         "2.0",
         "False",
         null,
         "0",
         "[None]",
         null,
         null,
         null,
         "{\n  \"lat\": 33.20763,\n  \"lon\": -92.6662674\n}",
         "RWwgRG9yYWRvLCBBUg==",
         "El Dorado, AR",
         "5139",
         "Union, AR",
         "20980.0",
         "El Dorado, AR",
         "5",
         "Arkansas",
         "5139",
         "Union, AR",
         "5139",
         "Union, AR",
         "20980.0",
         "El Dorado, AR",
         "20980.0",
         "El Dorado, AR",
         "44",
         "Retail Trade",
         "441",
         "Motor Vehicle and Parts Dealers",
         "4413",
         "Automotive Parts, Accessories, and Tire Retailers",
         "44133",
         "Automotive Parts and Accessories Retailers",
         "441330",
         "Automotive Parts and Accessories Retailers",
         "ET29C073C03D1F86B4",
         "Enterprise Analysts",
         "enterprise analyst ii iii",
         "[\n  \"KS126DB6T061MHD7RTGQ\",\n  \"KS126706DPFD3354M7YK\",\n  \"KS1280B68GD79P4WMVYW\",\n  \"KS128006L3V0HM2B26N5\",\n  \"KS122PM76DCYL9WC89Y7\",\n  \"ESB17C5AF46AFE08157D\",\n  \"KS122P063X6NGMHLP002\",\n  \"BGSB4E1D5CA81759D758\",\n  \"KS122PL70D99VRWMFM2T\",\n  \"KS1218C6C8TX2Y1KRN37\",\n  \"KS123MC78KV644P5DDZ0\",\n  \"KS120D96FHL88PZDKZKH\",\n  \"KS440Y975RD841M02V3S\",\n  \"KS440W865GC4VRBW6LJP\",\n  \"BGS1ADAA36DB65721AA3\",\n  \"BGS4CDA2E23CE451E247\",\n  \"KS13USA80NE38XJHA2TL\",\n  \"KS128HP65N6N70YV5ZM7\",\n  \"KS1239W6QZKL1H0TF1TJ\",\n  \"KS1218B62M9QRBY8WRSK\"\n]",
         "[\n  \"Merchandising\",\n  \"Mathematics\",\n  \"Presentations\",\n  \"Predictive Modeling\",\n  \"Data Modeling\",\n  \"Advanced Analytics\",\n  \"Data Extraction\",\n  \"Statistical Analysis\",\n  \"Data Mining\",\n  \"Business Analysis\",\n  \"Finance\",\n  \"Algorithms\",\n  \"Statistics\",\n  \"SQL (Programming Language)\",\n  \"Report Writing\",\n  \"Ad Hoc Reporting\",\n  \"Power BI\",\n  \"Relationship Building\",\n  \"Economics\",\n  \"Business Administration\"\n]",
         "[\n  \"KS126DB6T061MHD7RTGQ\",\n  \"KS128006L3V0HM2B26N5\",\n  \"KS122PM76DCYL9WC89Y7\",\n  \"ESB17C5AF46AFE08157D\",\n  \"KS122P063X6NGMHLP002\",\n  \"BGSB4E1D5CA81759D758\",\n  \"KS122PL70D99VRWMFM2T\",\n  \"KS1218C6C8TX2Y1KRN37\",\n  \"KS123MC78KV644P5DDZ0\",\n  \"KS120D96FHL88PZDKZKH\",\n  \"KS440Y975RD841M02V3S\",\n  \"KS440W865GC4VRBW6LJP\",\n  \"BGS4CDA2E23CE451E247\",\n  \"KS13USA80NE38XJHA2TL\",\n  \"KS1239W6QZKL1H0TF1TJ\"\n]",
         "[\n  \"Merchandising\",\n  \"Predictive Modeling\",\n  \"Data Modeling\",\n  \"Advanced Analytics\",\n  \"Data Extraction\",\n  \"Statistical Analysis\",\n  \"Data Mining\",\n  \"Business Analysis\",\n  \"Finance\",\n  \"Algorithms\",\n  \"Statistics\",\n  \"SQL (Programming Language)\",\n  \"Ad Hoc Reporting\",\n  \"Power BI\",\n  \"Economics\"\n]",
         "[]",
         "[]",
         "[\n  \"KS126706DPFD3354M7YK\",\n  \"KS1280B68GD79P4WMVYW\",\n  \"BGS1ADAA36DB65721AA3\",\n  \"KS128HP65N6N70YV5ZM7\",\n  \"KS1218B62M9QRBY8WRSK\"\n]",
         "[\n  \"Mathematics\",\n  \"Presentations\",\n  \"Report Writing\",\n  \"Relationship Building\",\n  \"Business Administration\"\n]",
         "[\n  \"KS440W865GC4VRBW6LJP\",\n  \"KS13USA80NE38XJHA2TL\"\n]",
         "[\n  \"SQL (Programming Language)\",\n  \"Power BI\"\n]",
         "15-2051.01",
         "Business Intelligence Analysts",
         "15-2051.01",
         "Business Intelligence Analysts",
         "[\n  \"45.0601\",\n  \"27.0101\"\n]",
         "[\n  \"Economics, General\",\n  \"Mathematics, General\"\n]",
         "[\n  \"45.06\",\n  \"27.01\"\n]",
         "[\n  \"Economics\",\n  \"Mathematics\"\n]",
         "[\n  \"45\",\n  \"27\"\n]",
         "[\n  \"Social Sciences\",\n  \"Mathematics and Statistics\"\n]",
         "15-0000",
         "Computer and Mathematical Occupations",
         "15-2000",
         "Mathematical Science Occupations",
         "15-2050",
         "Data Scientists",
         "15-2051",
         "Data Scientists",
         "23",
         "Information Technology and Computer Science",
         "231010",
         "Business Intelligence Analyst",
         "23101011",
         "General ERP Analyst / Consultant",
         "2310",
         "Business Intelligence",
         "23101011",
         "General ERP Analyst / Consultant",
         "231010",
         "Business Intelligence Analyst",
         "2310",
         "Business Intelligence",
         "23",
         "Information Technology and Computer Science",
         "15-0000",
         "Computer and Mathematical Occupations",
         "15-2000",
         "Mathematical Science Occupations",
         "15-2050",
         "Data Scientists",
         "15-2051",
         "Data Scientists",
         "[\n  7\n]",
         "[\n  \"Artificial Intelligence\"\n]",
         "441",
         "Motor Vehicle and Parts Dealers",
         "4413",
         "Automotive Parts, Accessories, and Tire Retailers",
         "44133",
         "Automotive Parts and Accessories Retailers",
         "441330",
         "Automotive Parts and Accessories Retailers"
        ],
        [
         "1",
         "0cb072af26757b6c4ea9464472a50a443af681ac",
         "2024-08-02",
         "2024-08-02 17:08:58.838 Z",
         "0",
         "2024-06-02",
         "2024-08-01",
         null,
         null,
         "Oracle Consultant - Reports (3592)",
         "Oracle Consultant - Reports (3592)\n\nat SMX in Augusta, Maine, United States\n\nJob Description\n\nOracle Consultant - Reports (3592)at SMX (https://www.smxtech.com/careers/)\n\nUnited States\n\nCreoal has recently become a proud subsidiary of SMX, marking an exciting collaboration that enhances our collective capabilities to deliver cutting-edge digital transformation solutions.SMX has a growing Oracle Cloud Practice, focusing on Commercial and Public Sector customers.\n\nSMX/Creoal drives digital transformation through innovative solutions that leverage Oracle, Salesforce, and leading-edge technologies for Federal, public sector, and commercial organizations across the globe. We employ a holistic approach of People, Process, and Technology.\n\nThe value of our organization is rooted in our team, whose experience across a wide range of technologies delivers tangible results to our clients. SMX/Creoal's skilled professional resources represent the industry's most respected digital transformation experts.\n\nWe are looking for an Oracle Consultant to support our client in this 100% remote role.\n\nEssential Duties and Responsibilities for the Oracle Consultant include:\n\n+ Providing direction and specialist knowledge in utilizing the following tools:\n\n+ Oracle Analytics Cloud (OAC)\n\n+ Oracle Transactional Business Intelligence (OTBI)\n\n+ Oracle Business Intelligence Publisher (BI Publisher)\n\n+ Developing reports and other business intelligence solutions to meet customers' needs in the following domains/fields:\n\n+ Financials\n\n+ Supply Chain\n\n+ Procurement\n\n+ Project Accounting\n\n+ Development of reusable reports using tools such as OTBI, Financial Reporting Studio, and OAC\n\nRequired Skills and Experience:\n\n+ Clearance Required: None\n\n+ US Citizenship is required for work on this contract. Applicant must be residing in the United States.\n\n+ 3-5 years of experience is required in the following toolsets:\n\n+ OAC\n\n+ OTBI\n\n+ BI Publisher\n\n+ PL/SQL\n\n+ Exposure to large-scale implementation projects, principally Oracle Fusion Cloud\n\nDesired Qualifications:\n\n+ Familiarity with Oracle Integration Cloud (OIC) is a plus\n\n+ Past background with Oracle's EBusiness Suite (EBS) product\n\n\\#cjpost #LI-REMOTE #LI-JJ1\n\nAt SMX, we are a team of technical and domain experts dedicated to enabling your mission. From priority national security initiatives for the DoD to highly assured and compliant solutions for healthcare, we understand that digital transformation is key to your future success.\n\nWe share your vision for the future and strive to accelerate your impact on the world. We bring both cutting edge technology and an expansive view of what's possible to every engagement. Our delivery model and unique approaches harness our deep technical and domain knowledge, providing forward-looking insights and practical solutions to power secure mission acceleration.\n\nSMX is committed to hiring and retaining a diverse workforce. All qualified candidates will receive consideration for employment without regard to disability status, protected veteran status, race, color, age, religion, national origin, citizenship, marital status, sex, sexual orientation, gender identity or expression, pregnancy or genetic information. SMX is an Equal Opportunity/Affirmative Action employer including disability and veterans.\n\nSelected applicant will be subject to a background investigation.",
         "2024-08-01",
         null,
         "133098",
         "Smx Corporation Limited",
         "SMX",
         "True",
         "[\n  99\n]",
         "[\n  \"No Education Listed\"\n]",
         "99",
         "No Education Listed",
         null,
         null,
         "1",
         "Full-time (> 32 hours)",
         "3.0",
         "3.0",
         "False",
         null,
         "1",
         "Remote",
         null,
         null,
         null,
         "{\n  \"lat\": 44.3106241,\n  \"lon\": -69.7794897\n}",
         "QXVndXN0YSwgTUU=",
         "Augusta, ME",
         "23011",
         "Kennebec, ME",
         "12300.0",
         "Augusta-Waterville, ME",
         "23",
         "Maine",
         "23011",
         "Kennebec, ME",
         "23011",
         "Kennebec, ME",
         "12300.0",
         "Augusta-Waterville, ME",
         "12300.0",
         "Augusta-Waterville, ME",
         "56",
         "Administrative and Support and Waste Management and Remediation Services",
         "561",
         "Administrative and Support Services",
         "5613",
         "Employment Services",
         "56132",
         "Temporary Help Services",
         "561320",
         "Temporary Help Services",
         "ET21DDA63780A7DC09",
         "Oracle Consultants",
         "oracle consultant reports",
         "[\n  \"KS122626T550SLQ7QZ1C\",\n  \"KS123YJ6KVWC91BTMB4R\",\n  \"BGSBF3F508F7F46312E3\",\n  \"ESEA839CED37833AA298\",\n  \"KS127HT6PY61NVMR3PWG\",\n  \"ES72D57E1BC4BB22BBB0\",\n  \"KS120ZX7019J4V8DHBTM\",\n  \"KS440YT6CGVX2WD4DLMR\",\n  \"KS128456FPN85WYD0SH8\"\n]",
         "[\n  \"Procurement\",\n  \"Financial Statements\",\n  \"Oracle Business Intelligence (BI) / OBIA\",\n  \"Oracle E-Business Suite\",\n  \"PL/SQL\",\n  \"Supply Chain\",\n  \"Business Intelligence\",\n  \"Oracle Fusion Middleware\",\n  \"Project Accounting\"\n]",
         "[\n  \"KS122626T550SLQ7QZ1C\",\n  \"KS123YJ6KVWC91BTMB4R\",\n  \"BGSBF3F508F7F46312E3\",\n  \"ESEA839CED37833AA298\",\n  \"KS127HT6PY61NVMR3PWG\",\n  \"ES72D57E1BC4BB22BBB0\",\n  \"KS120ZX7019J4V8DHBTM\",\n  \"KS440YT6CGVX2WD4DLMR\",\n  \"KS128456FPN85WYD0SH8\"\n]",
         "[\n  \"Procurement\",\n  \"Financial Statements\",\n  \"Oracle Business Intelligence (BI) / OBIA\",\n  \"Oracle E-Business Suite\",\n  \"PL/SQL\",\n  \"Supply Chain\",\n  \"Business Intelligence\",\n  \"Oracle Fusion Middleware\",\n  \"Project Accounting\"\n]",
         "[]",
         "[]",
         "[]",
         "[]",
         "[\n  \"BGSBF3F508F7F46312E3\",\n  \"ESEA839CED37833AA298\",\n  \"KS127HT6PY61NVMR3PWG\",\n  \"KS440YT6CGVX2WD4DLMR\"\n]",
         "[\n  \"Oracle Business Intelligence (BI) / OBIA\",\n  \"Oracle E-Business Suite\",\n  \"PL/SQL\",\n  \"Oracle Fusion Middleware\"\n]",
         "15-2051.01",
         "Business Intelligence Analysts",
         "15-2051.01",
         "Business Intelligence Analysts",
         "[]",
         "[]",
         "[]",
         "[]",
         "[]",
         "[]",
         "15-0000",
         "Computer and Mathematical Occupations",
         "15-2000",
         "Mathematical Science Occupations",
         "15-2050",
         "Data Scientists",
         "15-2051",
         "Data Scientists",
         "23",
         "Information Technology and Computer Science",
         "231010",
         "Business Intelligence Analyst",
         "23101012",
         "Oracle Consultant / Analyst",
         "2310",
         "Business Intelligence",
         "23101012",
         "Oracle Consultant / Analyst",
         "231010",
         "Business Intelligence Analyst",
         "2310",
         "Business Intelligence",
         "23",
         "Information Technology and Computer Science",
         "15-0000",
         "Computer and Mathematical Occupations",
         "15-2000",
         "Mathematical Science Occupations",
         "15-2050",
         "Data Scientists",
         "15-2051",
         "Data Scientists",
         null,
         null,
         "561",
         "Administrative and Support Services",
         "5613",
         "Employment Services",
         "56132",
         "Temporary Help Services",
         "561320",
         "Temporary Help Services"
        ],
        [
         "2",
         "85318b12b3331fa490d32ad014379df01855c557",
         "2024-09-06",
         "2024-09-06 20:32:57.352 Z",
         "1",
         "2024-06-02",
         "2024-07-07",
         "35.0",
         null,
         "Data Analyst",
         "Taking care of people is at the heart of everything we do, and we start by taking care of you, our valued colleague. A career at Sedgwick means experiencing our culture of caring. It means having flexibility and time for all the things that are important to you. It's an opportunity to do something meaningful, each and every day. It's having support for your mental, physical, financial and professional needs. It means sharpening your skills and growing your career. And it means working in an environment that celebrates diversity and is fair and inclusive.\n\nA career at Sedgwick is where passion meets purpose to make a positive impact on the world through the people and organizations we serve. If you are someone who is driven to make a difference, who enjoys a challenge and above all, if you're someone who cares, there's a place for you here. Join us and contribute to Sedgwick being a great place to work.\n\nGreat Place to Work\n\nMost Loved Workplace\n\nForbes Best-in-State Employer\n\nData Analyst\n\nPRIMARY PURPOSE To collect, analyze and report data; to be responsible for the data integrity; and to generate reports verifying and ensuring data integrity and accuracy.\n\nESSENTIAL FUNCTIONS and RESPONSIBILITIES\n\nCompiles data; prepares and distributes reports; and analyzes results.\n\nEnsures data integrity; develops and produces reports utilized in measuring data accuracy.\n\nMay assist in the completion of appropriate client set-up and maintenance (parameter) forms.\n\nSupports internal and external users including reports, installation, screen, etc.\n\nCreates exception reports to identify fields of incorrect data.\n\nGenerates custom reports for internal and external client.\n\nADDITIONAL FUNCTIONS and RESPONSIBILITIES\n\nPerforms other duties as assigned.\n\nSupports the organization's quality program(s).\n\nQUALIFICATIONS\n\nEducation & Licensing\n\nBachelor's degree from an accredited college or university preferred.\n\nExperience\n\nFive (5) years of related experience or equivalent combination of education and experience required. Two (2) years of query and report writing experience strongly preferred.\n\nSkills & Knowledge\n\nStrong knowledge of query and report writing\n\nExcellent oral and written communication, including presentation skills\n\nPC literate, including Microsoft Office products\n\nAnalytical and interpretive skills\n\nStrong organizational skills\n\nExcellent interpersonal skills\n\nExcellent negotiation skills\n\nAbility to meet or exceed Performance Competencies\n\nWORK ENVIRONMENT\n\nWhen applicable and appropriate, consideration will be given to reasonable accommodations.\n\nMental : Clear and conceptual thinking ability; excellent judgment, troubleshooting, problem solving, analysis, and discretion; ability to handle work-related stress; ability to handle multiple priorities simultaneously; and ability to meet deadlines\n\nPhysical : Computer keyboarding, travel as required\n\nAuditory/Visual : Hearing, vision and talking\n\nNOTE : Credit security clearance, confirmed via a background credit check, is required for this position.\n\nThe statements contained in this document are intended to describe the general nature and level of work being performed by a colleague assigned to this description. They are not intended to constitute a comprehensive list of functions, duties, or local variances. Management retains the discretion to add or to change the duties of the position at any time.\n\nSedgwick is an Equal Opportunity Employer and a Drug-Free Workplace.\n\nIf you're excited about this role but your experience doesn't align perfectly with every qualification in the job description, consider applying for it anyway! Sedgwick is building a diverse, equitable, and inclusive workplace and recognizes that each person possesses a unique combination of skills, knowledge, and experience. You may be just the right candidate for this or other roles.\n\nTaking care of people is at the heart of everything we do. Caring counts\n\nSedgwick is a leading global provider of technology-enabled risk, benefits and integrated business solutions. Every day, in every time zone, the most well-known and respected organizations place their trust in us to help their employees regain health and productivity, guide their consumers through the claims process, protect their brand and minimize business interruptions. Our more than 30,000 colleagues across 80 countries embrace our shared purpose and values as they demonstrate what it means to work for an organization committed to doing the right thing - one where caring counts. Watch this video to learn more about us. (https://www.youtube.com/watch?v=ywxedjBGSfA)",
         "2024-06-10",
         "8.0",
         "39063746",
         "Sedgwick",
         "Sedgwick",
         "False",
         "[\n  2\n]",
         "[\n  \"Bachelor's degree\"\n]",
         "2",
         "Bachelor's degree",
         null,
         null,
         "1",
         "Full-time (> 32 hours)",
         "5.0",
         null,
         "False",
         null,
         "0",
         "[None]",
         null,
         null,
         null,
         "{\n  \"lat\": 32.7766642,\n  \"lon\": -96.7969879\n}",
         "RGFsbGFzLCBUWA==",
         "Dallas, TX",
         "48113",
         "Dallas, TX",
         "19100.0",
         "Dallas-Fort Worth-Arlington, TX",
         "48",
         "Texas",
         "48113",
         "Dallas, TX",
         "48113",
         "Dallas, TX",
         "19100.0",
         "Dallas-Fort Worth-Arlington, TX",
         "19100.0",
         "Dallas-Fort Worth-Arlington, TX",
         "52",
         "Finance and Insurance",
         "524",
         "Insurance Carriers and Related Activities",
         "5242",
         "Agencies, Brokerages, and Other Insurance Related Activities",
         "52429",
         "Other Insurance Related Activities",
         "524291",
         "Claims Adjusting",
         "ET3037E0C947A02404",
         "Data Analysts",
         "data analyst",
         "[\n  \"KS1218W78FGVPVP2KXPX\",\n  \"ESF3939CE1F80C10C327\",\n  \"BGS1ADAA36DB65721AA3\",\n  \"KS683TN76T77DQDVBZ1B\",\n  \"KS1259D6L30YYG3XR3VL\",\n  \"ES9BD12EB76B360E0E89\",\n  \"KS1280B68GD79P4WMVYW\",\n  \"KS4425C7820LCHZS7VGX\",\n  \"KS120GV6C72JMSZKMTD7\",\n  \"ES8B03DAD3B526316ED9\",\n  \"KS126X663B21NB77ZHSP\",\n  \"KS122P86NZFH1GP38G15\",\n  \"KS126HY6YLTB9R7XJC4Z\"\n]",
         "[\n  \"Management\",\n  \"Exception Reporting\",\n  \"Report Writing\",\n  \"Security Clearance\",\n  \"Interpersonal Communications\",\n  \"Ability To Meet Deadlines\",\n  \"Presentations\",\n  \"Writing\",\n  \"Data Analysis\",\n  \"Organizational Skills\",\n  \"Negotiation\",\n  \"Data Integrity\",\n  \"Microsoft Office\"\n]",
         "[\n  \"ESF3939CE1F80C10C327\",\n  \"KS120GV6C72JMSZKMTD7\",\n  \"KS122P86NZFH1GP38G15\"\n]",
         "[\n  \"Exception Reporting\",\n  \"Data Analysis\",\n  \"Data Integrity\"\n]",
         "[\n  \"KS683TN76T77DQDVBZ1B\"\n]",
         "[\n  \"Security Clearance\"\n]",
         "[\n  \"KS1218W78FGVPVP2KXPX\",\n  \"BGS1ADAA36DB65721AA3\",\n  \"KS1259D6L30YYG3XR3VL\",\n  \"ES9BD12EB76B360E0E89\",\n  \"KS1280B68GD79P4WMVYW\",\n  \"KS4425C7820LCHZS7VGX\",\n  \"ES8B03DAD3B526316ED9\",\n  \"KS126X663B21NB77ZHSP\",\n  \"KS126HY6YLTB9R7XJC4Z\"\n]",
         "[\n  \"Management\",\n  \"Report Writing\",\n  \"Interpersonal Communications\",\n  \"Ability To Meet Deadlines\",\n  \"Presentations\",\n  \"Writing\",\n  \"Organizational Skills\",\n  \"Negotiation\",\n  \"Microsoft Office\"\n]",
         "[\n  \"KS126HY6YLTB9R7XJC4Z\"\n]",
         "[\n  \"Microsoft Office\"\n]",
         "15-2051.01",
         "Business Intelligence Analysts",
         "15-2051.01",
         "Business Intelligence Analysts",
         "[]",
         "[]",
         "[]",
         "[]",
         "[]",
         "[]",
         "15-0000",
         "Computer and Mathematical Occupations",
         "15-2000",
         "Mathematical Science Occupations",
         "15-2050",
         "Data Scientists",
         "15-2051",
         "Data Scientists",
         "23",
         "Information Technology and Computer Science",
         "231113",
         "Data / Data Mining Analyst",
         "23111310",
         "Data Analyst",
         "2311",
         "Data Analysis and Mathematics",
         "23111310",
         "Data Analyst",
         "231113",
         "Data / Data Mining Analyst",
         "2311",
         "Data Analysis and Mathematics",
         "23",
         "Information Technology and Computer Science",
         "15-0000",
         "Computer and Mathematical Occupations",
         "15-2000",
         "Mathematical Science Occupations",
         "15-2050",
         "Data Scientists",
         "15-2051",
         "Data Scientists",
         null,
         null,
         "524",
         "Insurance Carriers and Related Activities",
         "5242",
         "Agencies, Brokerages, and Other Insurance Related Activities",
         "52429",
         "Other Insurance Related Activities",
         "524291",
         "Claims Adjusting"
        ],
        [
         "3",
         "1b5c3941e54a1889ef4f8ae55b401a550708a310",
         "2024-09-06",
         "2024-09-06 20:32:57.352 Z",
         "1",
         "2024-06-02",
         "2024-07-20",
         "48.0",
         null,
         "Sr. Lead Data Mgmt. Analyst - SAS Product Owner",
         "About this role:\n\nWells Fargo is looking for a SAS Platform and Tools L2 Product Owner with a specialization in migrating from SAS 9 Grid to SAS Viya 4 on Google Cloud (SaaS). This key position involves leading the development and enhancement of our SAS-based analytics platform while orchestrating a seamless transition to the next-generation SAS Viya 4 environment.\n\nIn this role, you will:\n\nAct as an advisor to leadership to develop or influence objectives, plans, specifications, resources, and long-term goals for highly complex business and technical needs\n\nLead the strategy and resolution of highly complex and unique challenges requiring in-depth evaluation across multiple areas or the enterprise, delivering solutions that are long-term, large-scale and require vision, creativity, innovation, advanced analytical and inductive thinking\n\nProvide vision, direction, and expertise to senior leadership on implementing innovative and significant business solutions\n\nRecommend remediation of process or control gaps that align to management strategy\n\nStrategically engage with all levels of professionals and managers across the enterprise and serve as an expert advisor to leadership\n\nRepresent client in cross-functional groups to develop companywide data governance strategies\n\nPartner with groups companywide to coordinate and drive collaboration on solution design and remediation execution\n\nProduct Vision and Strategy:\n\nDefine and articulate a clear product vision and strategy for both SAS Platform and Tools and the migration to SAS Viya 4.\n\nCollaborate with stakeholders to align technical solutions with organizational goals.\n\nRoadmap Development:\n\nDevelop and maintain a comprehensive product roadmap for SAS Platform and Tools, prioritizing features and enhancements based on business value.\n\nPlan and execute the migration roadmap from SAS 9 Grid to SAS Viya 4, ensuring a phased and efficient transition.\n\nMigration Strategy: SAS 9 Grid to SAS Viya 4:\n\nAssess the existing SAS 9 Grid environment, identifying workloads, dependencies, and hardware configurations.\n\nDevelop a migration plan, including data migration, re-engineering SAS 9 Grid workloads, and establishing parallel operations for a smooth transition.\n\nCross-functional Collaboration:\n\nCollaborate with development teams, data scientists, and other stakeholders to ensure successful implementation of product features and migration processes.\n\nAct as a liaison between technical and non-technical teams, fostering a collaborative environment.\n\nRequirements Gathering:\n\nCollect and analyze user feedback, market trends, and competitive intelligence to inform product decisions.\n\nDefine detailed product requirements, user stories, and acceptance criteria for SAS Platform and the migration to SAS Viya 4.\n\nManage on-prem SAS products:\n\nEffectively manage BAU (Business As Usual) product backlog and priorities\n\nDrive Data Center Exit strategy for SAS products\n\nQuality Assurance:\n\nCoordinate with QA teams to define and execute test plans, ensuring the reliability and performance of both SAS Platform and SAS Viya 4.\n\nConduct thorough testing during the migration process to identify and rectify any issues.\n\nUser Training and Support:\n\nDevelop and deliver training programs for end-users on SAS Platform and Tools as well as SAS Viya 4.\n\nProvide ongoing support and troubleshooting assistance during and post-migration.\n\nMonitoring and Optimization:\n\nEstablish monitoring mechanisms for SAS Platform and Tools and SAS Viya 4, tracking performance and optimizing configurations.\n\nContinuously improve SAS Viya 4 configurations based on performance data.\n\nRequired Qualification\n\n7+ years of Data Management, Business Analysis, Analytics, or Project Management experience, or equivalent demonstrated through one or a combination of the following: work experience, training, military experience, education\n\n3+ years of experience in platform/tool operations, architecture and strategy\n\n1+ years of Agile experience\n\nDesired Qualification:\n\nExperience with Cloud Data Platforms\n\nPrior experience in migrating on-prem SAS to Cloud\n\nManaged SAS platform with operational responsibilities\n\nExperience with design of multi-tenant data architecture and its configuration spanning across both on-prem, cloud and hybrid environments\n\nExperience in data architecture, strategy, implementing user journeys within the data domain for large enterprise strength platforms.\n\nProven experience of leading development of products (data related), strong demonstration of managing SDLC and delivering outcomes.\n\nDemonstrate past work experience of organizing and enabling teams in a scaled Agile environment.\n\nGoogle Cloud certification is desired.\n\nExperience creating and implementing strategic plans and roadmaps at the executive level for enterprise-wide business initiatives\n\nJob Expectations:\n\nAbility to travel up to 10%\n\nThis position offers a hybrid work schedule\n\nWillingness to work on-site in one of the listed locations\n\nVisa sponsorship is not available for this position\n\nLocations: Charlotte, NC; Phoenix, AZ; Addison, TX; West Des Moines, IA\n\n401 S. Tryon St. Charlotte, NC\n\n1525 W WT Harris Blvd. Charlotte, NC\n\n11601 N Black Canyon Hwy. Phoenix, AZ\n\n5080 Spectrum Dr. Addison, TX\n\n800 S. Jordan Creek Pkwy. West Des Moines, IA\n\nNote: Job posting may come down early due to volume of applicants.\n\nPosting End Date:\n\n3 Jun 2024\n\n*Job posting may come down early due to volume of applicants.\n\nWe Value Diversity\n\nAt Wells Fargo, we believe in diversity, equity and inclusion in the workplace; accordingly, we welcome applications for employment from all qualified candidates, regardless of race, color, gender, national origin, religion, age, sexual orientation, gender identity, gender expression, genetic information, individuals with disabilities, pregnancy, marital status, status as a protected veteran or any other status protected by applicable law.\n\nEmployees support our focus on building strong customer relationships balanced with a strong risk mitigating and compliance-driven culture which firmly establishes those disciplines as critical to the success of our customers and company. They are accountable for execution of all applicable risk programs (Credit, Market, Financial Crimes, Operational, Regulatory Compliance), which includes effectively following and adhering to applicable Wells Fargo policies and procedures, appropriately fulfilling risk and compliance obligations, timely and effective escalation and remediation of issues, and making sound risk decisions. There is emphasis on proactive monitoring, governance, risk identification and escalation, as well as making sound risk decisions commensurate with the business unit's risk appetite and all risk and compliance program requirements.\n\nCandidates applying to job openings posted in US: All qualified applicants will receive consideration for employment without regard to race, color, religion, sex, sexual orientation, gender identity, national origin, disability, status as a protected veteran, or any other legally protected characteristic.\n\nCandidates applying to job openings posted in Canada: Applications for employment are encouraged from all qualified candidates, including women, persons with disabilities, aboriginal peoples and visible minorities. Accommodation for applicants with disabilities is available upon request in connection with the recruitment process.\n\nApplicants with Disabilities\n\nTo request a medical accommodation during the application or interview process, visit Disability Inclusion at Wells Fargo .\n\nDrug and Alcohol Policy\n\nWells Fargo maintains a drug free workplace. Please see our Drug and Alcohol Policy to learn more.\n\nCompany: WELLS FARGO BANK\n\nReq Number: R-372422-3\n\nUpdated: Sun Jun 02 04:15:06 UTC 2024\n\nLocation: PHOENIX,Arizona",
         "2024-06-12",
         "10.0",
         "37615159",
         "Wells Fargo",
         "Wells Fargo",
         "False",
         "[\n  99\n]",
         "[\n  \"No Education Listed\"\n]",
         "99",
         "No Education Listed",
         null,
         null,
         "1",
         "Full-time (> 32 hours)",
         "3.0",
         null,
         "False",
         null,
         "0",
         "[None]",
         null,
         null,
         null,
         "{\n  \"lat\": 33.4483771,\n  \"lon\": -112.0740373\n}",
         "UGhvZW5peCwgQVo=",
         "Phoenix, AZ",
         "4013",
         "Maricopa, AZ",
         "38060.0",
         "Phoenix-Mesa-Chandler, AZ",
         "4",
         "Arizona",
         "4013",
         "Maricopa, AZ",
         "4013",
         "Maricopa, AZ",
         "38060.0",
         "Phoenix-Mesa-Chandler, AZ",
         "38060.0",
         "Phoenix-Mesa-Chandler, AZ",
         "52",
         "Finance and Insurance",
         "522",
         "Credit Intermediation and Related Activities",
         "5221",
         "Depository Credit Intermediation",
         "52211",
         "Commercial Banking",
         "522110",
         "Commercial Banking",
         "ET2114E0404BA30075",
         "Management Analysts",
         "sr lead data mgmt analyst sas product owner",
         "[\n  \"KS123QX62QYTC4JF38H8\",\n  \"KS7G6NP6R6L1H1SKFTSY\",\n  \"KS441PQ64HT13P34T8T5\",\n  \"KS1218W78FGVPVP2KXPX\",\n  \"KS1219261TYVPMGX8KVQ\",\n  \"BGSBA798A49DA3AB544A\",\n  \"KSRGLA2SD4T20RIP6ORS\",\n  \"KS120B874P2P6BK1MQ0T\",\n  \"ES4C039C261C048676A2\",\n  \"ESB17C5AF46AFE08157D\",\n  \"KS128DV723HFCBV6JTH1\",\n  \"KS440726NL4QJRHCMR43\",\n  \"ES29C56D2465C253FC1D\",\n  \"KS4400X68616V0QJL5M8\",\n  \"KS1218C6C8TX2Y1KRN37\",\n  \"KS122PG64BT2BT6X15HF\",\n  \"KS122NM6B8TWBGL2X18F\",\n  \"ES20CECA4FF83ECE8196\",\n  \"KS1265F71V3PY4KH0JW5\",\n  \"KS1219D70RKFPH4CC8KN\",\n  \"KS122HK6LN2MZHFY69GJ\",\n  \"KS1253H61TTR1FZWSRH4\",\n  \"KS124G66QWSYM012SWS5\",\n  \"KS1284G6MK1552WHSZ32\",\n  \"KS124JB619VXG6RQ810C\",\n  \"KS441BJ6LNS1QCJHRMTW\",\n  \"KSNX20VIRD1IZABQZI8U\",\n  \"KS1282N6NQMZ95M1HJ7L\",\n  \"KS1267F6MSPN366LX7ST\",\n  \"KS127D361PF0FTXDZ7C4\",\n  \"KS122PL6Y7WHFNZ54RQJ\",\n  \"KS1226L6XYT1N27WRYJM\",\n  \"ES6C7324B9377A38E0D5\",\n  \"KS4409D76NW1S5LNCL18\",\n  \"KS441K2756CXYXBG990G\",\n  \"KS128866SHL94J005TTG\",\n  \"KS1220G68PD5STH2DL2W\",\n  \"KS122NW5YB08NCH9P98B\",\n  \"ES7A5D0AD38AB0F9D6C6\",\n  \"KS122P378DGNVX4NKQKN\",\n  \"KS1226460LSTKGW59TDX\",\n  \"KS127D36JHBK1S5F8NMB\",\n  \"KS4403H60RHC7598V94K\",\n  \"ESC7869CF7378283E0AA\",\n  \"KSUMUUUWH2LGA7IKVOX7\"\n]",
         "[\n  \"Exit Strategies\",\n  \"Reliability\",\n  \"User Story\",\n  \"Management\",\n  \"Strategic Planning\",\n  \"Hardware Configuration Management\",\n  \"On Prem\",\n  \"Agile Methodology\",\n  \"Solution Design\",\n  \"Advanced Analytics\",\n  \"Reengineering\",\n  \"Safety Assurance\",\n  \"Cross-Functional Collaboration\",\n  \"Requirements Elicitation\",\n  \"Business Analysis\",\n  \"Data Management\",\n  \"Data Architecture\",\n  \"Influencing Skills\",\n  \"Market Trend\",\n  \"Business Valuation\",\n  \"Creativity\",\n  \"Innovation\",\n  \"Governance\",\n  \"Systems Development Life Cycle\",\n  \"Leadership\",\n  \"Test Planning\",\n  \"Multi-Tenant Cloud Environments\",\n  \"Scrum (Software Development)\",\n  \"Project Management\",\n  \"Operations\",\n  \"Data Migration\",\n  \"Regulatory Compliance\",\n  \"Product Roadmaps\",\n  \"SAS (Software)\",\n  \"Troubleshooting (Problem Solving)\",\n  \"Quality Assurance\",\n  \"Software As A Service (SaaS)\",\n  \"Data Domain\",\n  \"Product Requirements\",\n  \"Data Governance\",\n  \"Competitive Intelligence\",\n  \"Operations Architecture\",\n  \"Risk Appetite\",\n  \"Google Cloud Platform (GCP)\",\n  \"User Feedback\"\n]",
         "[\n  \"KS123QX62QYTC4JF38H8\",\n  \"KS441PQ64HT13P34T8T5\",\n  \"BGSBA798A49DA3AB544A\",\n  \"KSRGLA2SD4T20RIP6ORS\",\n  \"KS120B874P2P6BK1MQ0T\",\n  \"ES4C039C261C048676A2\",\n  \"ESB17C5AF46AFE08157D\",\n  \"KS128DV723HFCBV6JTH1\",\n  \"ES29C56D2465C253FC1D\",\n  \"KS4400X68616V0QJL5M8\",\n  \"KS1218C6C8TX2Y1KRN37\",\n  \"KS122PG64BT2BT6X15HF\",\n  \"KS122NM6B8TWBGL2X18F\",\n  \"KS1265F71V3PY4KH0JW5\",\n  \"KS1219D70RKFPH4CC8KN\",\n  \"KS1284G6MK1552WHSZ32\",\n  \"KS441BJ6LNS1QCJHRMTW\",\n  \"KSNX20VIRD1IZABQZI8U\",\n  \"KS1282N6NQMZ95M1HJ7L\",\n  \"KS1267F6MSPN366LX7ST\",\n  \"KS122PL6Y7WHFNZ54RQJ\",\n  \"KS1226L6XYT1N27WRYJM\",\n  \"ES6C7324B9377A38E0D5\",\n  \"KS4409D76NW1S5LNCL18\",\n  \"KS1220G68PD5STH2DL2W\",\n  \"KS122NW5YB08NCH9P98B\",\n  \"ES7A5D0AD38AB0F9D6C6\",\n  \"KS122P378DGNVX4NKQKN\",\n  \"KS1226460LSTKGW59TDX\",\n  \"KS127D36JHBK1S5F8NMB\",\n  \"KS4403H60RHC7598V94K\",\n  \"ESC7869CF7378283E0AA\",\n  \"KSUMUUUWH2LGA7IKVOX7\"\n]",
         "[\n  \"Exit Strategies\",\n  \"User Story\",\n  \"Hardware Configuration Management\",\n  \"On Prem\",\n  \"Agile Methodology\",\n  \"Solution Design\",\n  \"Advanced Analytics\",\n  \"Reengineering\",\n  \"Cross-Functional Collaboration\",\n  \"Requirements Elicitation\",\n  \"Business Analysis\",\n  \"Data Management\",\n  \"Data Architecture\",\n  \"Market Trend\",\n  \"Business Valuation\",\n  \"Systems Development Life Cycle\",\n  \"Test Planning\",\n  \"Multi-Tenant Cloud Environments\",\n  \"Scrum (Software Development)\",\n  \"Project Management\",\n  \"Data Migration\",\n  \"Regulatory Compliance\",\n  \"Product Roadmaps\",\n  \"SAS (Software)\",\n  \"Software As A Service (SaaS)\",\n  \"Data Domain\",\n  \"Product Requirements\",\n  \"Data Governance\",\n  \"Competitive Intelligence\",\n  \"Operations Architecture\",\n  \"Risk Appetite\",\n  \"Google Cloud Platform (GCP)\",\n  \"User Feedback\"\n]",
         "[]",
         "[]",
         "[\n  \"KS7G6NP6R6L1H1SKFTSY\",\n  \"KS1218W78FGVPVP2KXPX\",\n  \"KS1219261TYVPMGX8KVQ\",\n  \"KS440726NL4QJRHCMR43\",\n  \"ES20CECA4FF83ECE8196\",\n  \"KS122HK6LN2MZHFY69GJ\",\n  \"KS1253H61TTR1FZWSRH4\",\n  \"KS124G66QWSYM012SWS5\",\n  \"KS124JB619VXG6RQ810C\",\n  \"KS127D361PF0FTXDZ7C4\",\n  \"KS441K2756CXYXBG990G\",\n  \"KS128866SHL94J005TTG\"\n]",
         "[\n  \"Reliability\",\n  \"Management\",\n  \"Strategic Planning\",\n  \"Safety Assurance\",\n  \"Influencing Skills\",\n  \"Creativity\",\n  \"Innovation\",\n  \"Governance\",\n  \"Leadership\",\n  \"Operations\",\n  \"Troubleshooting (Problem Solving)\",\n  \"Quality Assurance\"\n]",
         "[\n  \"KS4409D76NW1S5LNCL18\",\n  \"ESC7869CF7378283E0AA\"\n]",
         "[\n  \"SAS (Software)\",\n  \"Google Cloud Platform (GCP)\"\n]",
         "15-2051.01",
         "Business Intelligence Analysts",
         "15-2051.01",
         "Business Intelligence Analysts",
         "[]",
         "[]",
         "[]",
         "[]",
         "[]",
         "[]",
         "15-0000",
         "Computer and Mathematical Occupations",
         "15-2000",
         "Mathematical Science Occupations",
         "15-2050",
         "Data Scientists",
         "15-2051",
         "Data Scientists",
         "23",
         "Information Technology and Computer Science",
         "231113",
         "Data / Data Mining Analyst",
         "23111310",
         "Data Analyst",
         "2311",
         "Data Analysis and Mathematics",
         "23111310",
         "Data Analyst",
         "231113",
         "Data / Data Mining Analyst",
         "2311",
         "Data Analysis and Mathematics",
         "23",
         "Information Technology and Computer Science",
         "15-0000",
         "Computer and Mathematical Occupations",
         "15-2000",
         "Mathematical Science Occupations",
         "15-2050",
         "Data Scientists",
         "15-2051",
         "Data Scientists",
         "[\n  6\n]",
         "[\n  \"Data Privacy/Protection\"\n]",
         "522",
         "Credit Intermediation and Related Activities",
         "5221",
         "Depository Credit Intermediation",
         "52211",
         "Commercial Banking",
         "522110",
         "Commercial Banking"
        ],
        [
         "4",
         "cb5ca25f02bdf25c13edfede7931508bfd9e858f",
         "2024-06-19",
         "2024-06-19 07:00:00.000 Z",
         "0",
         "2024-06-02",
         "2024-06-17",
         "15.0",
         null,
         "Comisiones de $1000 - $3000 por semana... Comiensa Rapido!!!",
         "Comisiones de $1000 - $3000 por semana... Comiensa Rapido!!! (MODESTO AND SURROUNDING AREAS) LH/GM compensation: COMMISSION EASY SALES employment type: job title: SALES Comisiones de $1000 - $3000 por semana... Comiensa Rapido!!! No tengas miedo de Comisiones este trabajo es facil nada mas tienes que aprenderlo con nuestro excelente entrenamiento y empiesas aser dinero Rapido. Company / Compania Lincoln Heritage Life Insurance Co. More than 60 years in business! TENEMOS MAS DE 60 ANOS EN NEGOCIO!!!!! Agency / Agencia GOLDEN MEMORIAL AGENCY #1 Final Expense Agency in the Country Que vendemos? Seguro de vida: solo un Producto Gastos Finales Planes Funerales\" What do we Sell? Small whole life policies Necesito Experiencia? No se ocupa nada de experiencia, Solo ganas de Aprender ! Do I need Experience? No. All you need is work ethic to grow with a Winning Team!!! SI No tienes seguro social No te preocupes, si noms tienes un ITIN es suficiente para sacar la licencia del estado. Cuesta el entrenamiento? No !!! Entrenamiento es Gratis . Tenemos Videos EN INGLES Y ESPANOL................. Online Training..............In person Class Training...........&.......Field Training with a Manager. Que se ocupa para tener xito y hacer dinero ? Presntate cada da con una actitud positiva y listo para trabajar al 100. 100% comisin How much money can you make in a year? Our Agents are making from $35,000 to $150,000 Annually, Managers are making from $200,000 to over 1 Million Annually. What makes our Final Expense Company a Great Company to work for? 1. We get paid in 24hrs. Sell a plan and submit a application with a 1st payment Check, you get paid within 24hrs direct deposit into your bank account. 2. We give coverage to 98% of people regardless of their Health conditions. 3. We pay out claims within 24 to 48hrs 4. We give coverage to people who Do Not have a social security number. 4. We have a Accidental, Death & Dismemberment Rider for $5.00 ($100,000 additional coverage) 5. We have a Child Rider $4 per child $10,000 coverage 6. Our Clients receive a Free Membership to Funeral Consumer Guardian Society, which helps the customer plan their final wishes and Funeral exactly as they choose. (This Free membership to FCGS can save them up to $4000 on a Traditional Funeral and $600 on a Cremation) Down below are the Qualifications to work on our Team Full Time & Part Time Must Follow our Training System. Give me a call and leave me a brief message. Gracias!!!!! Thanks!!!! IF YOU HAVE MORE QUESTIONS TEXT OR CALL ME SO I CAN EMAIL YOU MORE INFORMATION TO GET YOU STARTED. CALL OR TEXT ME TODAY 800-307-1269 Please leave a message!!! Llmame Hoy !! 800-307-1269 Porfavor deja su mensaje!!! CALL OR TEXT ME TODAY 800-307-1269 Please leave a message!!! Llmame Hoy !! 800-307-1269 Porfavor deja su mensaje!!! Oscar 800-307-1269 Porfavor deja su mensaje Principals only. Recruiters, please don't contact this job poster. post id: 7747584269 updated: [ ]",
         "2024-06-17",
         "15.0",
         "0",
         "Unclassified",
         "LH/GM",
         "False",
         "[\n  99\n]",
         "[\n  \"No Education Listed\"\n]",
         "99",
         "No Education Listed",
         null,
         null,
         "3",
         "Part-time / full-time",
         null,
         null,
         "False",
         "92500.0",
         "0",
         "[None]",
         "year",
         "150000.0",
         "35000.0",
         "{\n  \"lat\": 37.6392595,\n  \"lon\": -120.9970014\n}",
         "TW9kZXN0bywgQ0E=",
         "Modesto, CA",
         "6099",
         "Stanislaus, CA",
         "33700.0",
         "Modesto, CA",
         "6",
         "California",
         "6099",
         "Stanislaus, CA",
         "6099",
         "Stanislaus, CA",
         "33700.0",
         "Modesto, CA",
         "33700.0",
         "Modesto, CA",
         "99",
         "Unclassified Industry",
         "999",
         "Unclassified Industry",
         "9999",
         "Unclassified Industry",
         "99999",
         "Unclassified Industry",
         "999999",
         "Unclassified Industry",
         "ET0000000000000000",
         "Unclassified",
         "comisiones de por semana comiensa rapido",
         "[]",
         "[]",
         "[]",
         "[]",
         "[]",
         "[]",
         "[]",
         "[]",
         "[]",
         "[]",
         "15-2051.01",
         "Business Intelligence Analysts",
         "15-2051.01",
         "Business Intelligence Analysts",
         "[]",
         "[]",
         "[]",
         "[]",
         "[]",
         "[]",
         "15-0000",
         "Computer and Mathematical Occupations",
         "15-2000",
         "Mathematical Science Occupations",
         "15-2050",
         "Data Scientists",
         "15-2051",
         "Data Scientists",
         "23",
         "Information Technology and Computer Science",
         "231010",
         "Business Intelligence Analyst",
         "23101012",
         "Oracle Consultant / Analyst",
         "2310",
         "Business Intelligence",
         "23101012",
         "Oracle Consultant / Analyst",
         "231010",
         "Business Intelligence Analyst",
         "2310",
         "Business Intelligence",
         "23",
         "Information Technology and Computer Science",
         "15-0000",
         "Computer and Mathematical Occupations",
         "15-2000",
         "Mathematical Science Occupations",
         "15-2050",
         "Data Scientists",
         "15-2051",
         "Data Scientists",
         null,
         null,
         "999",
         "Unclassified Industry",
         "9999",
         "Unclassified Industry",
         "99999",
         "Unclassified Industry",
         "999999",
         "Unclassified Industry"
        ]
       ],
       "shape": {
        "columns": 125,
        "rows": 5
       }
      },
      "text/html": [
       "<div>\n",
       "<style scoped>\n",
       "    .dataframe tbody tr th:only-of-type {\n",
       "        vertical-align: middle;\n",
       "    }\n",
       "\n",
       "    .dataframe tbody tr th {\n",
       "        vertical-align: top;\n",
       "    }\n",
       "\n",
       "    .dataframe thead th {\n",
       "        text-align: right;\n",
       "    }\n",
       "</style>\n",
       "<table border=\"1\" class=\"dataframe\">\n",
       "  <thead>\n",
       "    <tr style=\"text-align: right;\">\n",
       "      <th></th>\n",
       "      <th>ID</th>\n",
       "      <th>LAST_UPDATED_DATE</th>\n",
       "      <th>LAST_UPDATED_TIMESTAMP</th>\n",
       "      <th>DUPLICATES</th>\n",
       "      <th>POSTED</th>\n",
       "      <th>EXPIRED</th>\n",
       "      <th>DURATION</th>\n",
       "      <th>ACTIVE_SOURCES_INFO</th>\n",
       "      <th>TITLE_RAW</th>\n",
       "      <th>BODY</th>\n",
       "      <th>...</th>\n",
       "      <th>LIGHTCAST_SECTORS</th>\n",
       "      <th>LIGHTCAST_SECTORS_NAME</th>\n",
       "      <th>NAICS_2022_3</th>\n",
       "      <th>NAICS_2022_3_NAME</th>\n",
       "      <th>NAICS_2022_4</th>\n",
       "      <th>NAICS_2022_4_NAME</th>\n",
       "      <th>NAICS_2022_5</th>\n",
       "      <th>NAICS_2022_5_NAME</th>\n",
       "      <th>NAICS_2022_6</th>\n",
       "      <th>NAICS_2022_6_NAME</th>\n",
       "    </tr>\n",
       "  </thead>\n",
       "  <tbody>\n",
       "    <tr>\n",
       "      <th>0</th>\n",
       "      <td>1f57d95acf4dc67ed2819eb12f049f6a5c11782c</td>\n",
       "      <td>2024-09-06</td>\n",
       "      <td>2024-09-06 20:32:57.352 Z</td>\n",
       "      <td>0</td>\n",
       "      <td>2024-06-02</td>\n",
       "      <td>2024-06-08</td>\n",
       "      <td>6.0</td>\n",
       "      <td>NaN</td>\n",
       "      <td>Enterprise Analyst (II-III)</td>\n",
       "      <td>31-May-2024\\n\\nEnterprise Analyst (II-III)\\n\\n...</td>\n",
       "      <td>...</td>\n",
       "      <td>[\\n  7\\n]</td>\n",
       "      <td>[\\n  \"Artificial Intelligence\"\\n]</td>\n",
       "      <td>441</td>\n",
       "      <td>Motor Vehicle and Parts Dealers</td>\n",
       "      <td>4413</td>\n",
       "      <td>Automotive Parts, Accessories, and Tire Retailers</td>\n",
       "      <td>44133</td>\n",
       "      <td>Automotive Parts and Accessories Retailers</td>\n",
       "      <td>441330</td>\n",
       "      <td>Automotive Parts and Accessories Retailers</td>\n",
       "    </tr>\n",
       "    <tr>\n",
       "      <th>1</th>\n",
       "      <td>0cb072af26757b6c4ea9464472a50a443af681ac</td>\n",
       "      <td>2024-08-02</td>\n",
       "      <td>2024-08-02 17:08:58.838 Z</td>\n",
       "      <td>0</td>\n",
       "      <td>2024-06-02</td>\n",
       "      <td>2024-08-01</td>\n",
       "      <td>NaN</td>\n",
       "      <td>NaN</td>\n",
       "      <td>Oracle Consultant - Reports (3592)</td>\n",
       "      <td>Oracle Consultant - Reports (3592)\\n\\nat SMX i...</td>\n",
       "      <td>...</td>\n",
       "      <td>NaN</td>\n",
       "      <td>NaN</td>\n",
       "      <td>561</td>\n",
       "      <td>Administrative and Support Services</td>\n",
       "      <td>5613</td>\n",
       "      <td>Employment Services</td>\n",
       "      <td>56132</td>\n",
       "      <td>Temporary Help Services</td>\n",
       "      <td>561320</td>\n",
       "      <td>Temporary Help Services</td>\n",
       "    </tr>\n",
       "    <tr>\n",
       "      <th>2</th>\n",
       "      <td>85318b12b3331fa490d32ad014379df01855c557</td>\n",
       "      <td>2024-09-06</td>\n",
       "      <td>2024-09-06 20:32:57.352 Z</td>\n",
       "      <td>1</td>\n",
       "      <td>2024-06-02</td>\n",
       "      <td>2024-07-07</td>\n",
       "      <td>35.0</td>\n",
       "      <td>NaN</td>\n",
       "      <td>Data Analyst</td>\n",
       "      <td>Taking care of people is at the heart of every...</td>\n",
       "      <td>...</td>\n",
       "      <td>NaN</td>\n",
       "      <td>NaN</td>\n",
       "      <td>524</td>\n",
       "      <td>Insurance Carriers and Related Activities</td>\n",
       "      <td>5242</td>\n",
       "      <td>Agencies, Brokerages, and Other Insurance Rela...</td>\n",
       "      <td>52429</td>\n",
       "      <td>Other Insurance Related Activities</td>\n",
       "      <td>524291</td>\n",
       "      <td>Claims Adjusting</td>\n",
       "    </tr>\n",
       "    <tr>\n",
       "      <th>3</th>\n",
       "      <td>1b5c3941e54a1889ef4f8ae55b401a550708a310</td>\n",
       "      <td>2024-09-06</td>\n",
       "      <td>2024-09-06 20:32:57.352 Z</td>\n",
       "      <td>1</td>\n",
       "      <td>2024-06-02</td>\n",
       "      <td>2024-07-20</td>\n",
       "      <td>48.0</td>\n",
       "      <td>NaN</td>\n",
       "      <td>Sr. Lead Data Mgmt. Analyst - SAS Product Owner</td>\n",
       "      <td>About this role:\\n\\nWells Fargo is looking for...</td>\n",
       "      <td>...</td>\n",
       "      <td>[\\n  6\\n]</td>\n",
       "      <td>[\\n  \"Data Privacy/Protection\"\\n]</td>\n",
       "      <td>522</td>\n",
       "      <td>Credit Intermediation and Related Activities</td>\n",
       "      <td>5221</td>\n",
       "      <td>Depository Credit Intermediation</td>\n",
       "      <td>52211</td>\n",
       "      <td>Commercial Banking</td>\n",
       "      <td>522110</td>\n",
       "      <td>Commercial Banking</td>\n",
       "    </tr>\n",
       "    <tr>\n",
       "      <th>4</th>\n",
       "      <td>cb5ca25f02bdf25c13edfede7931508bfd9e858f</td>\n",
       "      <td>2024-06-19</td>\n",
       "      <td>2024-06-19 07:00:00.000 Z</td>\n",
       "      <td>0</td>\n",
       "      <td>2024-06-02</td>\n",
       "      <td>2024-06-17</td>\n",
       "      <td>15.0</td>\n",
       "      <td>NaN</td>\n",
       "      <td>Comisiones de $1000 - $3000 por semana... Comi...</td>\n",
       "      <td>Comisiones de $1000 - $3000 por semana... Comi...</td>\n",
       "      <td>...</td>\n",
       "      <td>NaN</td>\n",
       "      <td>NaN</td>\n",
       "      <td>999</td>\n",
       "      <td>Unclassified Industry</td>\n",
       "      <td>9999</td>\n",
       "      <td>Unclassified Industry</td>\n",
       "      <td>99999</td>\n",
       "      <td>Unclassified Industry</td>\n",
       "      <td>999999</td>\n",
       "      <td>Unclassified Industry</td>\n",
       "    </tr>\n",
       "  </tbody>\n",
       "</table>\n",
       "<p>5 rows × 125 columns</p>\n",
       "</div>"
      ],
      "text/plain": [
       "                                         ID LAST_UPDATED_DATE  \\\n",
       "0  1f57d95acf4dc67ed2819eb12f049f6a5c11782c        2024-09-06   \n",
       "1  0cb072af26757b6c4ea9464472a50a443af681ac        2024-08-02   \n",
       "2  85318b12b3331fa490d32ad014379df01855c557        2024-09-06   \n",
       "3  1b5c3941e54a1889ef4f8ae55b401a550708a310        2024-09-06   \n",
       "4  cb5ca25f02bdf25c13edfede7931508bfd9e858f        2024-06-19   \n",
       "\n",
       "      LAST_UPDATED_TIMESTAMP  DUPLICATES      POSTED     EXPIRED  DURATION  \\\n",
       "0  2024-09-06 20:32:57.352 Z           0  2024-06-02  2024-06-08       6.0   \n",
       "1  2024-08-02 17:08:58.838 Z           0  2024-06-02  2024-08-01       NaN   \n",
       "2  2024-09-06 20:32:57.352 Z           1  2024-06-02  2024-07-07      35.0   \n",
       "3  2024-09-06 20:32:57.352 Z           1  2024-06-02  2024-07-20      48.0   \n",
       "4  2024-06-19 07:00:00.000 Z           0  2024-06-02  2024-06-17      15.0   \n",
       "\n",
       "   ACTIVE_SOURCES_INFO                                          TITLE_RAW  \\\n",
       "0                  NaN                        Enterprise Analyst (II-III)   \n",
       "1                  NaN                 Oracle Consultant - Reports (3592)   \n",
       "2                  NaN                                       Data Analyst   \n",
       "3                  NaN    Sr. Lead Data Mgmt. Analyst - SAS Product Owner   \n",
       "4                  NaN  Comisiones de $1000 - $3000 por semana... Comi...   \n",
       "\n",
       "                                                BODY  ... LIGHTCAST_SECTORS  \\\n",
       "0  31-May-2024\\n\\nEnterprise Analyst (II-III)\\n\\n...  ...         [\\n  7\\n]   \n",
       "1  Oracle Consultant - Reports (3592)\\n\\nat SMX i...  ...               NaN   \n",
       "2  Taking care of people is at the heart of every...  ...               NaN   \n",
       "3  About this role:\\n\\nWells Fargo is looking for...  ...         [\\n  6\\n]   \n",
       "4  Comisiones de $1000 - $3000 por semana... Comi...  ...               NaN   \n",
       "\n",
       "              LIGHTCAST_SECTORS_NAME  NAICS_2022_3  \\\n",
       "0  [\\n  \"Artificial Intelligence\"\\n]           441   \n",
       "1                                NaN           561   \n",
       "2                                NaN           524   \n",
       "3  [\\n  \"Data Privacy/Protection\"\\n]           522   \n",
       "4                                NaN           999   \n",
       "\n",
       "                              NAICS_2022_3_NAME NAICS_2022_4  \\\n",
       "0               Motor Vehicle and Parts Dealers         4413   \n",
       "1           Administrative and Support Services         5613   \n",
       "2     Insurance Carriers and Related Activities         5242   \n",
       "3  Credit Intermediation and Related Activities         5221   \n",
       "4                         Unclassified Industry         9999   \n",
       "\n",
       "                                   NAICS_2022_4_NAME NAICS_2022_5  \\\n",
       "0  Automotive Parts, Accessories, and Tire Retailers        44133   \n",
       "1                                Employment Services        56132   \n",
       "2  Agencies, Brokerages, and Other Insurance Rela...        52429   \n",
       "3                   Depository Credit Intermediation        52211   \n",
       "4                              Unclassified Industry        99999   \n",
       "\n",
       "                            NAICS_2022_5_NAME  NAICS_2022_6  \\\n",
       "0  Automotive Parts and Accessories Retailers        441330   \n",
       "1                     Temporary Help Services        561320   \n",
       "2          Other Insurance Related Activities        524291   \n",
       "3                          Commercial Banking        522110   \n",
       "4                       Unclassified Industry        999999   \n",
       "\n",
       "                            NAICS_2022_6_NAME  \n",
       "0  Automotive Parts and Accessories Retailers  \n",
       "1                     Temporary Help Services  \n",
       "2                            Claims Adjusting  \n",
       "3                          Commercial Banking  \n",
       "4                       Unclassified Industry  \n",
       "\n",
       "[5 rows x 125 columns]"
      ]
     },
     "execution_count": 13,
     "metadata": {},
     "output_type": "execute_result"
    }
   ],
   "source": [
    "lightcast.head()"
   ]
  },
  {
   "cell_type": "code",
   "execution_count": 14,
   "metadata": {},
   "outputs": [
    {
     "data": {
      "application/vnd.microsoft.datawrangler.viewer.v0+json": {
       "columns": [
        {
         "name": "index",
         "rawType": "int64",
         "type": "integer"
        },
        {
         "name": "ID",
         "rawType": "object",
         "type": "string"
        },
        {
         "name": "TITLE_RAW",
         "rawType": "object",
         "type": "string"
        },
        {
         "name": "BODY",
         "rawType": "object",
         "type": "string"
        },
        {
         "name": "COMPANY_NAME",
         "rawType": "object",
         "type": "string"
        },
        {
         "name": "COMPANY_RAW",
         "rawType": "object",
         "type": "string"
        },
        {
         "name": "LAST_UPDATED_TIMESTAMP",
         "rawType": "object",
         "type": "string"
        },
        {
         "name": "DUPLICATES",
         "rawType": "int64",
         "type": "integer"
        },
        {
         "name": "POSTED",
         "rawType": "object",
         "type": "string"
        },
        {
         "name": "EXPIRED",
         "rawType": "object",
         "type": "string"
        }
       ],
       "conversionMethod": "pd.DataFrame",
       "ref": "5427ff45-3b98-4e4d-a8e3-a088537338fe",
       "rows": [
        [
         "0",
         "1f57d95acf4dc67ed2819eb12f049f6a5c11782c",
         "Enterprise Analyst (II-III)",
         "31-May-2024\n\nEnterprise Analyst (II-III)\n\nMerchandising\n\nEl Dorado\n\nArkansas\n\nJob Posting\n\nGENERAL DESCRIPTION OF POSITION\nPerforms business analysis using various techniques, e.g. statistical analysis, explanatory and predictive modeling, data mining. Identifies trends and patterns in data and can explain business drivers or the why behind the data. Skills typically attained in a four-year degree plus the understanding and application of analytical tools and techniques that come with 2-5 years of experience including advanced MS office skills, advanced SQL, PowerBI, and exporting/building data models.\n\nESSENTIAL DUTIES AND RESPONSIBILITIES\n1. Gathers insight and performs routine and ad hoc reporting using various techniques (statistical analysis, data mining).\n2. Frames unstructured problems\n3. Performs data extraction/gathering, reconciling ambiguous data, and executes the hypothesis-driven approach.\n4. Develops fact-based and actionable recommendations/presentations.\n5. Analyze data for trends and patterns, and interpret data with a clear objective in mind\n6. Proficiently design and develop algorithms and models to use against large datasets to create business insights\n7. Make appropriate selection, utilization and interpretation of advanced analytical methodologies\n8. Effectively communicate insights and recommendations to both technical and non-technical leaders and business customers/partners including preparing reports, updates and/or presentations related to progress made on a project or solution\n9. Work with project teams and business partners to determine project goals and deliver productionized models and tools\n10. Effectively develop trust and collaboration with internal customers and cross-functional teams\n\n\nQUALIFICATIONS\nTo perform this job successfully, an individual must be able to perform each essential duty mentioned satisfactorily. The requirements listed below are representative of the knowledge, skill, and/or ability required.\n\nEDUCATION AND EXPERIENCE\nBroad knowledge of such fields as economics, statistics, business administration, finance, math, science etc. Equivalent to a four-year college degree, plus 2-5 years related experience and/or training, or equivalent combination of education and experience.\n\nAuto req ID\n\n181767BR\n\nStore Number/Dept Number\n\n299900055000 - Strat Plan Perform Mgmt\n\nStore Address\n\n200 E Peach St\n\nStore Zip\n\n71730",
         "Murphy USA",
         "Murphy USA",
         "2024-09-06 20:32:57.352 Z",
         "0",
         "2024-06-02",
         "2024-06-08"
        ],
        [
         "1",
         "0cb072af26757b6c4ea9464472a50a443af681ac",
         "Oracle Consultant - Reports (3592)",
         "Oracle Consultant - Reports (3592)\n\nat SMX in Augusta, Maine, United States\n\nJob Description\n\nOracle Consultant - Reports (3592)at SMX (https://www.smxtech.com/careers/)\n\nUnited States\n\nCreoal has recently become a proud subsidiary of SMX, marking an exciting collaboration that enhances our collective capabilities to deliver cutting-edge digital transformation solutions.SMX has a growing Oracle Cloud Practice, focusing on Commercial and Public Sector customers.\n\nSMX/Creoal drives digital transformation through innovative solutions that leverage Oracle, Salesforce, and leading-edge technologies for Federal, public sector, and commercial organizations across the globe. We employ a holistic approach of People, Process, and Technology.\n\nThe value of our organization is rooted in our team, whose experience across a wide range of technologies delivers tangible results to our clients. SMX/Creoal's skilled professional resources represent the industry's most respected digital transformation experts.\n\nWe are looking for an Oracle Consultant to support our client in this 100% remote role.\n\nEssential Duties and Responsibilities for the Oracle Consultant include:\n\n+ Providing direction and specialist knowledge in utilizing the following tools:\n\n+ Oracle Analytics Cloud (OAC)\n\n+ Oracle Transactional Business Intelligence (OTBI)\n\n+ Oracle Business Intelligence Publisher (BI Publisher)\n\n+ Developing reports and other business intelligence solutions to meet customers' needs in the following domains/fields:\n\n+ Financials\n\n+ Supply Chain\n\n+ Procurement\n\n+ Project Accounting\n\n+ Development of reusable reports using tools such as OTBI, Financial Reporting Studio, and OAC\n\nRequired Skills and Experience:\n\n+ Clearance Required: None\n\n+ US Citizenship is required for work on this contract. Applicant must be residing in the United States.\n\n+ 3-5 years of experience is required in the following toolsets:\n\n+ OAC\n\n+ OTBI\n\n+ BI Publisher\n\n+ PL/SQL\n\n+ Exposure to large-scale implementation projects, principally Oracle Fusion Cloud\n\nDesired Qualifications:\n\n+ Familiarity with Oracle Integration Cloud (OIC) is a plus\n\n+ Past background with Oracle's EBusiness Suite (EBS) product\n\n\\#cjpost #LI-REMOTE #LI-JJ1\n\nAt SMX, we are a team of technical and domain experts dedicated to enabling your mission. From priority national security initiatives for the DoD to highly assured and compliant solutions for healthcare, we understand that digital transformation is key to your future success.\n\nWe share your vision for the future and strive to accelerate your impact on the world. We bring both cutting edge technology and an expansive view of what's possible to every engagement. Our delivery model and unique approaches harness our deep technical and domain knowledge, providing forward-looking insights and practical solutions to power secure mission acceleration.\n\nSMX is committed to hiring and retaining a diverse workforce. All qualified candidates will receive consideration for employment without regard to disability status, protected veteran status, race, color, age, religion, national origin, citizenship, marital status, sex, sexual orientation, gender identity or expression, pregnancy or genetic information. SMX is an Equal Opportunity/Affirmative Action employer including disability and veterans.\n\nSelected applicant will be subject to a background investigation.",
         "Smx Corporation Limited",
         "SMX",
         "2024-08-02 17:08:58.838 Z",
         "0",
         "2024-06-02",
         "2024-08-01"
        ],
        [
         "2",
         "85318b12b3331fa490d32ad014379df01855c557",
         "Data Analyst",
         "Taking care of people is at the heart of everything we do, and we start by taking care of you, our valued colleague. A career at Sedgwick means experiencing our culture of caring. It means having flexibility and time for all the things that are important to you. It's an opportunity to do something meaningful, each and every day. It's having support for your mental, physical, financial and professional needs. It means sharpening your skills and growing your career. And it means working in an environment that celebrates diversity and is fair and inclusive.\n\nA career at Sedgwick is where passion meets purpose to make a positive impact on the world through the people and organizations we serve. If you are someone who is driven to make a difference, who enjoys a challenge and above all, if you're someone who cares, there's a place for you here. Join us and contribute to Sedgwick being a great place to work.\n\nGreat Place to Work\n\nMost Loved Workplace\n\nForbes Best-in-State Employer\n\nData Analyst\n\nPRIMARY PURPOSE To collect, analyze and report data; to be responsible for the data integrity; and to generate reports verifying and ensuring data integrity and accuracy.\n\nESSENTIAL FUNCTIONS and RESPONSIBILITIES\n\nCompiles data; prepares and distributes reports; and analyzes results.\n\nEnsures data integrity; develops and produces reports utilized in measuring data accuracy.\n\nMay assist in the completion of appropriate client set-up and maintenance (parameter) forms.\n\nSupports internal and external users including reports, installation, screen, etc.\n\nCreates exception reports to identify fields of incorrect data.\n\nGenerates custom reports for internal and external client.\n\nADDITIONAL FUNCTIONS and RESPONSIBILITIES\n\nPerforms other duties as assigned.\n\nSupports the organization's quality program(s).\n\nQUALIFICATIONS\n\nEducation & Licensing\n\nBachelor's degree from an accredited college or university preferred.\n\nExperience\n\nFive (5) years of related experience or equivalent combination of education and experience required. Two (2) years of query and report writing experience strongly preferred.\n\nSkills & Knowledge\n\nStrong knowledge of query and report writing\n\nExcellent oral and written communication, including presentation skills\n\nPC literate, including Microsoft Office products\n\nAnalytical and interpretive skills\n\nStrong organizational skills\n\nExcellent interpersonal skills\n\nExcellent negotiation skills\n\nAbility to meet or exceed Performance Competencies\n\nWORK ENVIRONMENT\n\nWhen applicable and appropriate, consideration will be given to reasonable accommodations.\n\nMental : Clear and conceptual thinking ability; excellent judgment, troubleshooting, problem solving, analysis, and discretion; ability to handle work-related stress; ability to handle multiple priorities simultaneously; and ability to meet deadlines\n\nPhysical : Computer keyboarding, travel as required\n\nAuditory/Visual : Hearing, vision and talking\n\nNOTE : Credit security clearance, confirmed via a background credit check, is required for this position.\n\nThe statements contained in this document are intended to describe the general nature and level of work being performed by a colleague assigned to this description. They are not intended to constitute a comprehensive list of functions, duties, or local variances. Management retains the discretion to add or to change the duties of the position at any time.\n\nSedgwick is an Equal Opportunity Employer and a Drug-Free Workplace.\n\nIf you're excited about this role but your experience doesn't align perfectly with every qualification in the job description, consider applying for it anyway! Sedgwick is building a diverse, equitable, and inclusive workplace and recognizes that each person possesses a unique combination of skills, knowledge, and experience. You may be just the right candidate for this or other roles.\n\nTaking care of people is at the heart of everything we do. Caring counts\n\nSedgwick is a leading global provider of technology-enabled risk, benefits and integrated business solutions. Every day, in every time zone, the most well-known and respected organizations place their trust in us to help their employees regain health and productivity, guide their consumers through the claims process, protect their brand and minimize business interruptions. Our more than 30,000 colleagues across 80 countries embrace our shared purpose and values as they demonstrate what it means to work for an organization committed to doing the right thing - one where caring counts. Watch this video to learn more about us. (https://www.youtube.com/watch?v=ywxedjBGSfA)",
         "Sedgwick",
         "Sedgwick",
         "2024-09-06 20:32:57.352 Z",
         "1",
         "2024-06-02",
         "2024-07-07"
        ],
        [
         "3",
         "1b5c3941e54a1889ef4f8ae55b401a550708a310",
         "Sr. Lead Data Mgmt. Analyst - SAS Product Owner",
         "About this role:\n\nWells Fargo is looking for a SAS Platform and Tools L2 Product Owner with a specialization in migrating from SAS 9 Grid to SAS Viya 4 on Google Cloud (SaaS). This key position involves leading the development and enhancement of our SAS-based analytics platform while orchestrating a seamless transition to the next-generation SAS Viya 4 environment.\n\nIn this role, you will:\n\nAct as an advisor to leadership to develop or influence objectives, plans, specifications, resources, and long-term goals for highly complex business and technical needs\n\nLead the strategy and resolution of highly complex and unique challenges requiring in-depth evaluation across multiple areas or the enterprise, delivering solutions that are long-term, large-scale and require vision, creativity, innovation, advanced analytical and inductive thinking\n\nProvide vision, direction, and expertise to senior leadership on implementing innovative and significant business solutions\n\nRecommend remediation of process or control gaps that align to management strategy\n\nStrategically engage with all levels of professionals and managers across the enterprise and serve as an expert advisor to leadership\n\nRepresent client in cross-functional groups to develop companywide data governance strategies\n\nPartner with groups companywide to coordinate and drive collaboration on solution design and remediation execution\n\nProduct Vision and Strategy:\n\nDefine and articulate a clear product vision and strategy for both SAS Platform and Tools and the migration to SAS Viya 4.\n\nCollaborate with stakeholders to align technical solutions with organizational goals.\n\nRoadmap Development:\n\nDevelop and maintain a comprehensive product roadmap for SAS Platform and Tools, prioritizing features and enhancements based on business value.\n\nPlan and execute the migration roadmap from SAS 9 Grid to SAS Viya 4, ensuring a phased and efficient transition.\n\nMigration Strategy: SAS 9 Grid to SAS Viya 4:\n\nAssess the existing SAS 9 Grid environment, identifying workloads, dependencies, and hardware configurations.\n\nDevelop a migration plan, including data migration, re-engineering SAS 9 Grid workloads, and establishing parallel operations for a smooth transition.\n\nCross-functional Collaboration:\n\nCollaborate with development teams, data scientists, and other stakeholders to ensure successful implementation of product features and migration processes.\n\nAct as a liaison between technical and non-technical teams, fostering a collaborative environment.\n\nRequirements Gathering:\n\nCollect and analyze user feedback, market trends, and competitive intelligence to inform product decisions.\n\nDefine detailed product requirements, user stories, and acceptance criteria for SAS Platform and the migration to SAS Viya 4.\n\nManage on-prem SAS products:\n\nEffectively manage BAU (Business As Usual) product backlog and priorities\n\nDrive Data Center Exit strategy for SAS products\n\nQuality Assurance:\n\nCoordinate with QA teams to define and execute test plans, ensuring the reliability and performance of both SAS Platform and SAS Viya 4.\n\nConduct thorough testing during the migration process to identify and rectify any issues.\n\nUser Training and Support:\n\nDevelop and deliver training programs for end-users on SAS Platform and Tools as well as SAS Viya 4.\n\nProvide ongoing support and troubleshooting assistance during and post-migration.\n\nMonitoring and Optimization:\n\nEstablish monitoring mechanisms for SAS Platform and Tools and SAS Viya 4, tracking performance and optimizing configurations.\n\nContinuously improve SAS Viya 4 configurations based on performance data.\n\nRequired Qualification\n\n7+ years of Data Management, Business Analysis, Analytics, or Project Management experience, or equivalent demonstrated through one or a combination of the following: work experience, training, military experience, education\n\n3+ years of experience in platform/tool operations, architecture and strategy\n\n1+ years of Agile experience\n\nDesired Qualification:\n\nExperience with Cloud Data Platforms\n\nPrior experience in migrating on-prem SAS to Cloud\n\nManaged SAS platform with operational responsibilities\n\nExperience with design of multi-tenant data architecture and its configuration spanning across both on-prem, cloud and hybrid environments\n\nExperience in data architecture, strategy, implementing user journeys within the data domain for large enterprise strength platforms.\n\nProven experience of leading development of products (data related), strong demonstration of managing SDLC and delivering outcomes.\n\nDemonstrate past work experience of organizing and enabling teams in a scaled Agile environment.\n\nGoogle Cloud certification is desired.\n\nExperience creating and implementing strategic plans and roadmaps at the executive level for enterprise-wide business initiatives\n\nJob Expectations:\n\nAbility to travel up to 10%\n\nThis position offers a hybrid work schedule\n\nWillingness to work on-site in one of the listed locations\n\nVisa sponsorship is not available for this position\n\nLocations: Charlotte, NC; Phoenix, AZ; Addison, TX; West Des Moines, IA\n\n401 S. Tryon St. Charlotte, NC\n\n1525 W WT Harris Blvd. Charlotte, NC\n\n11601 N Black Canyon Hwy. Phoenix, AZ\n\n5080 Spectrum Dr. Addison, TX\n\n800 S. Jordan Creek Pkwy. West Des Moines, IA\n\nNote: Job posting may come down early due to volume of applicants.\n\nPosting End Date:\n\n3 Jun 2024\n\n*Job posting may come down early due to volume of applicants.\n\nWe Value Diversity\n\nAt Wells Fargo, we believe in diversity, equity and inclusion in the workplace; accordingly, we welcome applications for employment from all qualified candidates, regardless of race, color, gender, national origin, religion, age, sexual orientation, gender identity, gender expression, genetic information, individuals with disabilities, pregnancy, marital status, status as a protected veteran or any other status protected by applicable law.\n\nEmployees support our focus on building strong customer relationships balanced with a strong risk mitigating and compliance-driven culture which firmly establishes those disciplines as critical to the success of our customers and company. They are accountable for execution of all applicable risk programs (Credit, Market, Financial Crimes, Operational, Regulatory Compliance), which includes effectively following and adhering to applicable Wells Fargo policies and procedures, appropriately fulfilling risk and compliance obligations, timely and effective escalation and remediation of issues, and making sound risk decisions. There is emphasis on proactive monitoring, governance, risk identification and escalation, as well as making sound risk decisions commensurate with the business unit's risk appetite and all risk and compliance program requirements.\n\nCandidates applying to job openings posted in US: All qualified applicants will receive consideration for employment without regard to race, color, religion, sex, sexual orientation, gender identity, national origin, disability, status as a protected veteran, or any other legally protected characteristic.\n\nCandidates applying to job openings posted in Canada: Applications for employment are encouraged from all qualified candidates, including women, persons with disabilities, aboriginal peoples and visible minorities. Accommodation for applicants with disabilities is available upon request in connection with the recruitment process.\n\nApplicants with Disabilities\n\nTo request a medical accommodation during the application or interview process, visit Disability Inclusion at Wells Fargo .\n\nDrug and Alcohol Policy\n\nWells Fargo maintains a drug free workplace. Please see our Drug and Alcohol Policy to learn more.\n\nCompany: WELLS FARGO BANK\n\nReq Number: R-372422-3\n\nUpdated: Sun Jun 02 04:15:06 UTC 2024\n\nLocation: PHOENIX,Arizona",
         "Wells Fargo",
         "Wells Fargo",
         "2024-09-06 20:32:57.352 Z",
         "1",
         "2024-06-02",
         "2024-07-20"
        ],
        [
         "4",
         "cb5ca25f02bdf25c13edfede7931508bfd9e858f",
         "Comisiones de $1000 - $3000 por semana... Comiensa Rapido!!!",
         "Comisiones de $1000 - $3000 por semana... Comiensa Rapido!!! (MODESTO AND SURROUNDING AREAS) LH/GM compensation: COMMISSION EASY SALES employment type: job title: SALES Comisiones de $1000 - $3000 por semana... Comiensa Rapido!!! No tengas miedo de Comisiones este trabajo es facil nada mas tienes que aprenderlo con nuestro excelente entrenamiento y empiesas aser dinero Rapido. Company / Compania Lincoln Heritage Life Insurance Co. More than 60 years in business! TENEMOS MAS DE 60 ANOS EN NEGOCIO!!!!! Agency / Agencia GOLDEN MEMORIAL AGENCY #1 Final Expense Agency in the Country Que vendemos? Seguro de vida: solo un Producto Gastos Finales Planes Funerales\" What do we Sell? Small whole life policies Necesito Experiencia? No se ocupa nada de experiencia, Solo ganas de Aprender ! Do I need Experience? No. All you need is work ethic to grow with a Winning Team!!! SI No tienes seguro social No te preocupes, si noms tienes un ITIN es suficiente para sacar la licencia del estado. Cuesta el entrenamiento? No !!! Entrenamiento es Gratis . Tenemos Videos EN INGLES Y ESPANOL................. Online Training..............In person Class Training...........&.......Field Training with a Manager. Que se ocupa para tener xito y hacer dinero ? Presntate cada da con una actitud positiva y listo para trabajar al 100. 100% comisin How much money can you make in a year? Our Agents are making from $35,000 to $150,000 Annually, Managers are making from $200,000 to over 1 Million Annually. What makes our Final Expense Company a Great Company to work for? 1. We get paid in 24hrs. Sell a plan and submit a application with a 1st payment Check, you get paid within 24hrs direct deposit into your bank account. 2. We give coverage to 98% of people regardless of their Health conditions. 3. We pay out claims within 24 to 48hrs 4. We give coverage to people who Do Not have a social security number. 4. We have a Accidental, Death & Dismemberment Rider for $5.00 ($100,000 additional coverage) 5. We have a Child Rider $4 per child $10,000 coverage 6. Our Clients receive a Free Membership to Funeral Consumer Guardian Society, which helps the customer plan their final wishes and Funeral exactly as they choose. (This Free membership to FCGS can save them up to $4000 on a Traditional Funeral and $600 on a Cremation) Down below are the Qualifications to work on our Team Full Time & Part Time Must Follow our Training System. Give me a call and leave me a brief message. Gracias!!!!! Thanks!!!! IF YOU HAVE MORE QUESTIONS TEXT OR CALL ME SO I CAN EMAIL YOU MORE INFORMATION TO GET YOU STARTED. CALL OR TEXT ME TODAY 800-307-1269 Please leave a message!!! Llmame Hoy !! 800-307-1269 Porfavor deja su mensaje!!! CALL OR TEXT ME TODAY 800-307-1269 Please leave a message!!! Llmame Hoy !! 800-307-1269 Porfavor deja su mensaje!!! Oscar 800-307-1269 Porfavor deja su mensaje Principals only. Recruiters, please don't contact this job poster. post id: 7747584269 updated: [ ]",
         "Unclassified",
         "LH/GM",
         "2024-06-19 07:00:00.000 Z",
         "0",
         "2024-06-02",
         "2024-06-17"
        ]
       ],
       "shape": {
        "columns": 9,
        "rows": 5
       }
      },
      "text/html": [
       "<div>\n",
       "<style scoped>\n",
       "    .dataframe tbody tr th:only-of-type {\n",
       "        vertical-align: middle;\n",
       "    }\n",
       "\n",
       "    .dataframe tbody tr th {\n",
       "        vertical-align: top;\n",
       "    }\n",
       "\n",
       "    .dataframe thead th {\n",
       "        text-align: right;\n",
       "    }\n",
       "</style>\n",
       "<table border=\"1\" class=\"dataframe\">\n",
       "  <thead>\n",
       "    <tr style=\"text-align: right;\">\n",
       "      <th></th>\n",
       "      <th>ID</th>\n",
       "      <th>TITLE_RAW</th>\n",
       "      <th>BODY</th>\n",
       "      <th>COMPANY_NAME</th>\n",
       "      <th>COMPANY_RAW</th>\n",
       "      <th>LAST_UPDATED_TIMESTAMP</th>\n",
       "      <th>DUPLICATES</th>\n",
       "      <th>POSTED</th>\n",
       "      <th>EXPIRED</th>\n",
       "    </tr>\n",
       "  </thead>\n",
       "  <tbody>\n",
       "    <tr>\n",
       "      <th>0</th>\n",
       "      <td>1f57d95acf4dc67ed2819eb12f049f6a5c11782c</td>\n",
       "      <td>Enterprise Analyst (II-III)</td>\n",
       "      <td>31-May-2024\\n\\nEnterprise Analyst (II-III)\\n\\n...</td>\n",
       "      <td>Murphy USA</td>\n",
       "      <td>Murphy USA</td>\n",
       "      <td>2024-09-06 20:32:57.352 Z</td>\n",
       "      <td>0</td>\n",
       "      <td>2024-06-02</td>\n",
       "      <td>2024-06-08</td>\n",
       "    </tr>\n",
       "    <tr>\n",
       "      <th>1</th>\n",
       "      <td>0cb072af26757b6c4ea9464472a50a443af681ac</td>\n",
       "      <td>Oracle Consultant - Reports (3592)</td>\n",
       "      <td>Oracle Consultant - Reports (3592)\\n\\nat SMX i...</td>\n",
       "      <td>Smx Corporation Limited</td>\n",
       "      <td>SMX</td>\n",
       "      <td>2024-08-02 17:08:58.838 Z</td>\n",
       "      <td>0</td>\n",
       "      <td>2024-06-02</td>\n",
       "      <td>2024-08-01</td>\n",
       "    </tr>\n",
       "    <tr>\n",
       "      <th>2</th>\n",
       "      <td>85318b12b3331fa490d32ad014379df01855c557</td>\n",
       "      <td>Data Analyst</td>\n",
       "      <td>Taking care of people is at the heart of every...</td>\n",
       "      <td>Sedgwick</td>\n",
       "      <td>Sedgwick</td>\n",
       "      <td>2024-09-06 20:32:57.352 Z</td>\n",
       "      <td>1</td>\n",
       "      <td>2024-06-02</td>\n",
       "      <td>2024-07-07</td>\n",
       "    </tr>\n",
       "    <tr>\n",
       "      <th>3</th>\n",
       "      <td>1b5c3941e54a1889ef4f8ae55b401a550708a310</td>\n",
       "      <td>Sr. Lead Data Mgmt. Analyst - SAS Product Owner</td>\n",
       "      <td>About this role:\\n\\nWells Fargo is looking for...</td>\n",
       "      <td>Wells Fargo</td>\n",
       "      <td>Wells Fargo</td>\n",
       "      <td>2024-09-06 20:32:57.352 Z</td>\n",
       "      <td>1</td>\n",
       "      <td>2024-06-02</td>\n",
       "      <td>2024-07-20</td>\n",
       "    </tr>\n",
       "    <tr>\n",
       "      <th>4</th>\n",
       "      <td>cb5ca25f02bdf25c13edfede7931508bfd9e858f</td>\n",
       "      <td>Comisiones de $1000 - $3000 por semana... Comi...</td>\n",
       "      <td>Comisiones de $1000 - $3000 por semana... Comi...</td>\n",
       "      <td>Unclassified</td>\n",
       "      <td>LH/GM</td>\n",
       "      <td>2024-06-19 07:00:00.000 Z</td>\n",
       "      <td>0</td>\n",
       "      <td>2024-06-02</td>\n",
       "      <td>2024-06-17</td>\n",
       "    </tr>\n",
       "  </tbody>\n",
       "</table>\n",
       "</div>"
      ],
      "text/plain": [
       "                                         ID  \\\n",
       "0  1f57d95acf4dc67ed2819eb12f049f6a5c11782c   \n",
       "1  0cb072af26757b6c4ea9464472a50a443af681ac   \n",
       "2  85318b12b3331fa490d32ad014379df01855c557   \n",
       "3  1b5c3941e54a1889ef4f8ae55b401a550708a310   \n",
       "4  cb5ca25f02bdf25c13edfede7931508bfd9e858f   \n",
       "\n",
       "                                           TITLE_RAW  \\\n",
       "0                        Enterprise Analyst (II-III)   \n",
       "1                 Oracle Consultant - Reports (3592)   \n",
       "2                                       Data Analyst   \n",
       "3    Sr. Lead Data Mgmt. Analyst - SAS Product Owner   \n",
       "4  Comisiones de $1000 - $3000 por semana... Comi...   \n",
       "\n",
       "                                                BODY             COMPANY_NAME  \\\n",
       "0  31-May-2024\\n\\nEnterprise Analyst (II-III)\\n\\n...               Murphy USA   \n",
       "1  Oracle Consultant - Reports (3592)\\n\\nat SMX i...  Smx Corporation Limited   \n",
       "2  Taking care of people is at the heart of every...                 Sedgwick   \n",
       "3  About this role:\\n\\nWells Fargo is looking for...              Wells Fargo   \n",
       "4  Comisiones de $1000 - $3000 por semana... Comi...             Unclassified   \n",
       "\n",
       "   COMPANY_RAW     LAST_UPDATED_TIMESTAMP  DUPLICATES      POSTED     EXPIRED  \n",
       "0   Murphy USA  2024-09-06 20:32:57.352 Z           0  2024-06-02  2024-06-08  \n",
       "1          SMX  2024-08-02 17:08:58.838 Z           0  2024-06-02  2024-08-01  \n",
       "2     Sedgwick  2024-09-06 20:32:57.352 Z           1  2024-06-02  2024-07-07  \n",
       "3  Wells Fargo  2024-09-06 20:32:57.352 Z           1  2024-06-02  2024-07-20  \n",
       "4        LH/GM  2024-06-19 07:00:00.000 Z           0  2024-06-02  2024-06-17  "
      ]
     },
     "execution_count": 14,
     "metadata": {},
     "output_type": "execute_result"
    }
   ],
   "source": [
    "lightcast_clean = lightcast[[\"ID\",\"TITLE_RAW\", \"BODY\",\"COMPANY_NAME\",\"COMPANY_RAW\",\"LAST_UPDATED_TIMESTAMP\",\t\"DUPLICATES\",\t\"POSTED\",\t\"EXPIRED\"]]\n",
    "\n",
    "lightcast_clean.head()"
   ]
  },
  {
   "cell_type": "code",
   "execution_count": 15,
   "metadata": {},
   "outputs": [
    {
     "data": {
      "text/plain": [
       "(83, 9)"
      ]
     },
     "execution_count": 15,
     "metadata": {},
     "output_type": "execute_result"
    }
   ],
   "source": [
    "lightcast_clean = lightcast_clean[lightcast_clean.DUPLICATES != 1]\n",
    "lightcast_clean.shape\n"
   ]
  }
 ],
 "metadata": {
  "kernelspec": {
   "display_name": ".venv",
   "language": "python",
   "name": "python3"
  },
  "language_info": {
   "codemirror_mode": {
    "name": "ipython",
    "version": 3
   },
   "file_extension": ".py",
   "mimetype": "text/x-python",
   "name": "python",
   "nbconvert_exporter": "python",
   "pygments_lexer": "ipython3",
   "version": "3.11.9"
  }
 },
 "nbformat": 4,
 "nbformat_minor": 2
}
